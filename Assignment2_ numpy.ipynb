{
 "cells": [
  {
   "cell_type": "markdown",
   "metadata": {
    "id": "4mx31CdI8jlx"
   },
   "source": [
    "# Numpy\n",
    "\n"
   ]
  },
  {
   "cell_type": "markdown",
   "metadata": {
    "id": "Xd2Ny2GH8jl5"
   },
   "source": [
    "#### 1. Import the numpy package under the name `np` (★☆☆) \n",
    "(**hint**: import … as …)"
   ]
  },
  {
   "cell_type": "code",
   "execution_count": 20,
   "metadata": {
    "collapsed": true,
    "executionInfo": {
     "elapsed": 327,
     "status": "ok",
     "timestamp": 1646892512543,
     "user": {
      "displayName": "divya",
      "photoUrl": "https://lh3.googleusercontent.com/a-/AOh14GgWNNntWPBxiei1pdGSr7kPoDUATSkukD5xV-g7qDs=s64",
      "userId": "00255106542832566666"
     },
     "user_tz": -480
    },
    "id": "iWwMbrWn8jl7"
   },
   "outputs": [],
   "source": [
    "import numpy as np"
   ]
  },
  {
   "cell_type": "markdown",
   "metadata": {
    "id": "WATOyxI98jl8"
   },
   "source": [
    "#### 2. Print the numpy version and the configuration (★☆☆) \n",
    "(**hint**: np.\\_\\_version\\_\\_, np.show\\_config)"
   ]
  },
  {
   "cell_type": "code",
   "execution_count": 57,
   "metadata": {
    "colab": {
     "base_uri": "https://localhost:8080/"
    },
    "executionInfo": {
     "elapsed": 330,
     "status": "ok",
     "timestamp": 1646892627548,
     "user": {
      "displayName": "divya",
      "photoUrl": "https://lh3.googleusercontent.com/a-/AOh14GgWNNntWPBxiei1pdGSr7kPoDUATSkukD5xV-g7qDs=s64",
      "userId": "00255106542832566666"
     },
     "user_tz": -480
    },
    "id": "KioH3wIFAipF",
    "outputId": "94756485-08cd-47e7-bcd6-f5063c6d3f9a"
   },
   "outputs": [
    {
     "name": "stdout",
     "output_type": "stream",
     "text": [
      "1.21.5\n",
      "blas_mkl_info:\n",
      "  NOT AVAILABLE\n",
      "blis_info:\n",
      "  NOT AVAILABLE\n",
      "openblas_info:\n",
      "    libraries = ['openblas', 'openblas']\n",
      "    library_dirs = ['/usr/local/lib']\n",
      "    language = c\n",
      "    define_macros = [('HAVE_CBLAS', None)]\n",
      "    runtime_library_dirs = ['/usr/local/lib']\n",
      "blas_opt_info:\n",
      "    libraries = ['openblas', 'openblas']\n",
      "    library_dirs = ['/usr/local/lib']\n",
      "    language = c\n",
      "    define_macros = [('HAVE_CBLAS', None)]\n",
      "    runtime_library_dirs = ['/usr/local/lib']\n",
      "lapack_mkl_info:\n",
      "  NOT AVAILABLE\n",
      "openblas_lapack_info:\n",
      "    libraries = ['openblas', 'openblas']\n",
      "    library_dirs = ['/usr/local/lib']\n",
      "    language = c\n",
      "    define_macros = [('HAVE_CBLAS', None)]\n",
      "    runtime_library_dirs = ['/usr/local/lib']\n",
      "lapack_opt_info:\n",
      "    libraries = ['openblas', 'openblas']\n",
      "    library_dirs = ['/usr/local/lib']\n",
      "    language = c\n",
      "    define_macros = [('HAVE_CBLAS', None)]\n",
      "    runtime_library_dirs = ['/usr/local/lib']\n",
      "Supported SIMD extensions in this NumPy install:\n",
      "    baseline = SSE,SSE2,SSE3\n",
      "    found = SSSE3,SSE41,POPCNT,SSE42,AVX,F16C,FMA3,AVX2\n",
      "    not found = AVX512F,AVX512CD,AVX512_KNL,AVX512_KNM,AVX512_SKX,AVX512_CLX,AVX512_CNL,AVX512_ICL\n"
     ]
    }
   ],
   "source": [
    "print(np.__version__)\n",
    "np.__config__.show()"
   ]
  },
  {
   "cell_type": "code",
   "execution_count": 58,
   "metadata": {
    "colab": {
     "base_uri": "https://localhost:8080/"
    },
    "executionInfo": {
     "elapsed": 6,
     "status": "ok",
     "timestamp": 1646892628126,
     "user": {
      "displayName": "divya",
      "photoUrl": "https://lh3.googleusercontent.com/a-/AOh14GgWNNntWPBxiei1pdGSr7kPoDUATSkukD5xV-g7qDs=s64",
      "userId": "00255106542832566666"
     },
     "user_tz": -480
    },
    "id": "m6fldhfo8jl9",
    "outputId": "425efef1-6d3a-4af0-f703-939b5845f644"
   },
   "outputs": [
    {
     "name": "stdout",
     "output_type": "stream",
     "text": [
      "blas_mkl_info:\n",
      "  NOT AVAILABLE\n",
      "blis_info:\n",
      "  NOT AVAILABLE\n",
      "openblas_info:\n",
      "    libraries = ['openblas', 'openblas']\n",
      "    library_dirs = ['/usr/local/lib']\n",
      "    language = c\n",
      "    define_macros = [('HAVE_CBLAS', None)]\n",
      "    runtime_library_dirs = ['/usr/local/lib']\n",
      "blas_opt_info:\n",
      "    libraries = ['openblas', 'openblas']\n",
      "    library_dirs = ['/usr/local/lib']\n",
      "    language = c\n",
      "    define_macros = [('HAVE_CBLAS', None)]\n",
      "    runtime_library_dirs = ['/usr/local/lib']\n",
      "lapack_mkl_info:\n",
      "  NOT AVAILABLE\n",
      "openblas_lapack_info:\n",
      "    libraries = ['openblas', 'openblas']\n",
      "    library_dirs = ['/usr/local/lib']\n",
      "    language = c\n",
      "    define_macros = [('HAVE_CBLAS', None)]\n",
      "    runtime_library_dirs = ['/usr/local/lib']\n",
      "lapack_opt_info:\n",
      "    libraries = ['openblas', 'openblas']\n",
      "    library_dirs = ['/usr/local/lib']\n",
      "    language = c\n",
      "    define_macros = [('HAVE_CBLAS', None)]\n",
      "    runtime_library_dirs = ['/usr/local/lib']\n",
      "Supported SIMD extensions in this NumPy install:\n",
      "    baseline = SSE,SSE2,SSE3\n",
      "    found = SSSE3,SSE41,POPCNT,SSE42,AVX,F16C,FMA3,AVX2\n",
      "    not found = AVX512F,AVX512CD,AVX512_KNL,AVX512_KNM,AVX512_SKX,AVX512_CLX,AVX512_CNL,AVX512_ICL\n"
     ]
    }
   ],
   "source": [
    "np.show_config()"
   ]
  },
  {
   "cell_type": "markdown",
   "metadata": {
    "id": "nsirogNq8jl-"
   },
   "source": [
    "#### 3. Create a null vector of size 10 (★☆☆) \n",
    "(**hint**: np.zeros)"
   ]
  },
  {
   "cell_type": "code",
   "execution_count": 23,
   "metadata": {
    "colab": {
     "base_uri": "https://localhost:8080/"
    },
    "executionInfo": {
     "elapsed": 11,
     "status": "ok",
     "timestamp": 1646892514029,
     "user": {
      "displayName": "divya",
      "photoUrl": "https://lh3.googleusercontent.com/a-/AOh14GgWNNntWPBxiei1pdGSr7kPoDUATSkukD5xV-g7qDs=s64",
      "userId": "00255106542832566666"
     },
     "user_tz": -480
    },
    "id": "74qLaNRx8jl_",
    "outputId": "32161a0a-3aa2-40c8-cb1b-7d436e247185"
   },
   "outputs": [
    {
     "name": "stdout",
     "output_type": "stream",
     "text": [
      "[0. 0. 0. 0. 0. 0. 0. 0. 0. 0.]\n"
     ]
    }
   ],
   "source": [
    "x = np.zeros(10)\n",
    "print(x)"
   ]
  },
  {
   "cell_type": "markdown",
   "metadata": {
    "id": "CWJDwxj38jmA"
   },
   "source": [
    "#### 4.  How to find the memory size of any array (★☆☆) \n",
    "(**hint**: size, itemsize)"
   ]
  },
  {
   "cell_type": "code",
   "execution_count": 24,
   "metadata": {
    "colab": {
     "base_uri": "https://localhost:8080/"
    },
    "executionInfo": {
     "elapsed": 11,
     "status": "ok",
     "timestamp": 1646892514030,
     "user": {
      "displayName": "divya",
      "photoUrl": "https://lh3.googleusercontent.com/a-/AOh14GgWNNntWPBxiei1pdGSr7kPoDUATSkukD5xV-g7qDs=s64",
      "userId": "00255106542832566666"
     },
     "user_tz": -480
    },
    "id": "hi81qo7S8jmB",
    "outputId": "2742c9c7-8d74-4dab-aa22-797353588317"
   },
   "outputs": [
    {
     "name": "stdout",
     "output_type": "stream",
     "text": [
      "10\n",
      "8\n",
      "80\n"
     ]
    }
   ],
   "source": [
    "print(x.size)  #size of the array\n",
    "print(x.itemsize)   #memory size of the elements in the array\n",
    "print(x.size*x.itemsize)    #memory size of the array"
   ]
  },
  {
   "cell_type": "markdown",
   "metadata": {
    "id": "zhiiGcHz8jmC"
   },
   "source": [
    "#### 5.  How to get the documentation of the numpy add function from the command line? (★☆☆) \n",
    "(**hint**: np.info)"
   ]
  },
  {
   "cell_type": "code",
   "execution_count": 25,
   "metadata": {
    "colab": {
     "base_uri": "https://localhost:8080/"
    },
    "collapsed": true,
    "executionInfo": {
     "elapsed": 11,
     "status": "ok",
     "timestamp": 1646892514030,
     "user": {
      "displayName": "divya",
      "photoUrl": "https://lh3.googleusercontent.com/a-/AOh14GgWNNntWPBxiei1pdGSr7kPoDUATSkukD5xV-g7qDs=s64",
      "userId": "00255106542832566666"
     },
     "user_tz": -480
    },
    "id": "UR-L46u48jmD",
    "outputId": "1b0d308a-db4e-404d-b667-5a26c08c2f6a"
   },
   "outputs": [
    {
     "name": "stderr",
     "output_type": "stream",
     "text": [
      "ERROR:root:File `'python.py'` not found.\n"
     ]
    }
   ],
   "source": [
    "%run python -c \"import numpy; numpy.info(numpy.add)\" "
   ]
  },
  {
   "cell_type": "markdown",
   "metadata": {
    "id": "_gI8jwHg8jmD"
   },
   "source": [
    "#### 6.  Create a null vector of size 10 but the fifth value which is 1 (★☆☆) \n",
    "(**hint**: array\\[4\\])"
   ]
  },
  {
   "cell_type": "code",
   "execution_count": 26,
   "metadata": {
    "colab": {
     "base_uri": "https://localhost:8080/"
    },
    "executionInfo": {
     "elapsed": 10,
     "status": "ok",
     "timestamp": 1646892514030,
     "user": {
      "displayName": "divya",
      "photoUrl": "https://lh3.googleusercontent.com/a-/AOh14GgWNNntWPBxiei1pdGSr7kPoDUATSkukD5xV-g7qDs=s64",
      "userId": "00255106542832566666"
     },
     "user_tz": -480
    },
    "id": "n8eqIJ2G8jmE",
    "outputId": "c44947b6-62db-4814-8534-f905866cbe6a"
   },
   "outputs": [
    {
     "name": "stdout",
     "output_type": "stream",
     "text": [
      "[0. 0. 0. 0. 1. 0. 0. 0. 0. 0.]\n"
     ]
    }
   ],
   "source": [
    "array=np.zeros(10)\n",
    "array[4]=1\n",
    "print(array)"
   ]
  },
  {
   "cell_type": "markdown",
   "metadata": {
    "id": "-z8WRxJt8jmF"
   },
   "source": [
    "#### 7.  Create a vector with values ranging from 10 to 49 (★☆☆) \n",
    "(**hint**: np.arange)"
   ]
  },
  {
   "cell_type": "code",
   "execution_count": 27,
   "metadata": {
    "colab": {
     "base_uri": "https://localhost:8080/"
    },
    "executionInfo": {
     "elapsed": 10,
     "status": "ok",
     "timestamp": 1646892514030,
     "user": {
      "displayName": "divya",
      "photoUrl": "https://lh3.googleusercontent.com/a-/AOh14GgWNNntWPBxiei1pdGSr7kPoDUATSkukD5xV-g7qDs=s64",
      "userId": "00255106542832566666"
     },
     "user_tz": -480
    },
    "id": "e_n5WHK78jmH",
    "outputId": "cb30a517-98a1-41bd-bb6e-a808947613e5"
   },
   "outputs": [
    {
     "name": "stdout",
     "output_type": "stream",
     "text": [
      "[10 11 12 13 14 15 16 17 18 19 20 21 22 23 24 25 26 27 28 29 30 31 32 33\n",
      " 34 35 36 37 38 39 40 41 42 43 44 45 46 47 48 49]\n"
     ]
    }
   ],
   "source": [
    "array=np.arange(10,50)\n",
    "print(array)"
   ]
  },
  {
   "cell_type": "markdown",
   "metadata": {
    "id": "uqKy6zMy8jmI"
   },
   "source": [
    "#### 8.  Reverse a vector (first element becomes last) (★☆☆) \n",
    "(**hint**: array\\[::-1\\])"
   ]
  },
  {
   "cell_type": "code",
   "execution_count": 28,
   "metadata": {
    "colab": {
     "base_uri": "https://localhost:8080/"
    },
    "executionInfo": {
     "elapsed": 10,
     "status": "ok",
     "timestamp": 1646892514031,
     "user": {
      "displayName": "divya",
      "photoUrl": "https://lh3.googleusercontent.com/a-/AOh14GgWNNntWPBxiei1pdGSr7kPoDUATSkukD5xV-g7qDs=s64",
      "userId": "00255106542832566666"
     },
     "user_tz": -480
    },
    "id": "5gRRFqxE8jmJ",
    "outputId": "ed0b4715-9670-414f-9d37-94ba8b9c7149"
   },
   "outputs": [
    {
     "name": "stdout",
     "output_type": "stream",
     "text": [
      "[49 48 47 46 45 44 43 42 41 40 39 38 37 36 35 34 33 32 31 30 29 28 27 26\n",
      " 25 24 23 22 21 20 19 18 17 16 15 14 13 12 11 10]\n"
     ]
    }
   ],
   "source": [
    "\n",
    "array1= array[::-1]\n",
    "print(array1)"
   ]
  },
  {
   "cell_type": "markdown",
   "metadata": {
    "id": "9sXuS2SK8jmJ"
   },
   "source": [
    "#### 9.  Create a 3x3 matrix with values ranging from 0 to 8 (★☆☆) \n",
    "(**hint**: reshape)"
   ]
  },
  {
   "cell_type": "code",
   "execution_count": 29,
   "metadata": {
    "colab": {
     "base_uri": "https://localhost:8080/"
    },
    "executionInfo": {
     "elapsed": 10,
     "status": "ok",
     "timestamp": 1646892514031,
     "user": {
      "displayName": "divya",
      "photoUrl": "https://lh3.googleusercontent.com/a-/AOh14GgWNNntWPBxiei1pdGSr7kPoDUATSkukD5xV-g7qDs=s64",
      "userId": "00255106542832566666"
     },
     "user_tz": -480
    },
    "id": "xr3t4r548jmK",
    "outputId": "a80aec56-237e-4105-946e-77c36624c8b6"
   },
   "outputs": [
    {
     "name": "stdout",
     "output_type": "stream",
     "text": [
      "[[0 1 2]\n",
      " [3 4 5]\n",
      " [6 7 8]]\n"
     ]
    }
   ],
   "source": [
    "x=np.arange(9).reshape(3,3)\n",
    "print(x)"
   ]
  },
  {
   "cell_type": "markdown",
   "metadata": {
    "id": "OZap3xrs8jmL"
   },
   "source": [
    "#### 10. Find indices of non-zero elements from \\[1,2,0,0,4,0\\] (★☆☆) \n",
    "(**hint**: np.nonzero)"
   ]
  },
  {
   "cell_type": "code",
   "execution_count": 30,
   "metadata": {
    "colab": {
     "base_uri": "https://localhost:8080/"
    },
    "executionInfo": {
     "elapsed": 9,
     "status": "ok",
     "timestamp": 1646892514031,
     "user": {
      "displayName": "divya",
      "photoUrl": "https://lh3.googleusercontent.com/a-/AOh14GgWNNntWPBxiei1pdGSr7kPoDUATSkukD5xV-g7qDs=s64",
      "userId": "00255106542832566666"
     },
     "user_tz": -480
    },
    "id": "ip2TZRg88jmL",
    "outputId": "d6cfc92f-d3b1-481c-89b2-770a93015eb9"
   },
   "outputs": [
    {
     "name": "stdout",
     "output_type": "stream",
     "text": [
      "(array([0, 1, 4]),)\n"
     ]
    }
   ],
   "source": [
    "x = np.nonzero([1,2,0,0,4,0])\n",
    "print(x)"
   ]
  },
  {
   "cell_type": "markdown",
   "metadata": {
    "id": "Ia9EPWJB8jmM"
   },
   "source": [
    "#### 11. Create a 3x3 identity matrix (★☆☆) \n",
    "(**hint**: np.eye)"
   ]
  },
  {
   "cell_type": "code",
   "execution_count": 31,
   "metadata": {
    "colab": {
     "base_uri": "https://localhost:8080/"
    },
    "executionInfo": {
     "elapsed": 10,
     "status": "ok",
     "timestamp": 1646892514032,
     "user": {
      "displayName": "divya",
      "photoUrl": "https://lh3.googleusercontent.com/a-/AOh14GgWNNntWPBxiei1pdGSr7kPoDUATSkukD5xV-g7qDs=s64",
      "userId": "00255106542832566666"
     },
     "user_tz": -480
    },
    "id": "lKSjvyWf8jmN",
    "outputId": "d65b6561-0b58-4801-b827-8cd7617ec3f8"
   },
   "outputs": [
    {
     "name": "stdout",
     "output_type": "stream",
     "text": [
      "[[1. 0. 0.]\n",
      " [0. 1. 0.]\n",
      " [0. 0. 1.]]\n"
     ]
    }
   ],
   "source": [
    "x =np.eye(3)\n",
    "print(x)"
   ]
  },
  {
   "cell_type": "markdown",
   "metadata": {
    "id": "hZtur5508jmN"
   },
   "source": [
    "#### 12. Create a 3x3x3 array with random values (★☆☆) \n",
    "(**hint**: np.random.random)"
   ]
  },
  {
   "cell_type": "code",
   "execution_count": 32,
   "metadata": {
    "colab": {
     "base_uri": "https://localhost:8080/"
    },
    "collapsed": true,
    "executionInfo": {
     "elapsed": 9,
     "status": "ok",
     "timestamp": 1646892514032,
     "user": {
      "displayName": "divya",
      "photoUrl": "https://lh3.googleusercontent.com/a-/AOh14GgWNNntWPBxiei1pdGSr7kPoDUATSkukD5xV-g7qDs=s64",
      "userId": "00255106542832566666"
     },
     "user_tz": -480
    },
    "id": "8nAQxQ8v8jmO",
    "outputId": "3317a5c0-d57d-45a4-8cea-45bcccbc9e47"
   },
   "outputs": [
    {
     "name": "stdout",
     "output_type": "stream",
     "text": [
      "[1.70722021 1.18307692 2.59920366]\n"
     ]
    }
   ],
   "source": [
    "x = np.random.uniform((3,3,3))\n",
    "print(x)"
   ]
  },
  {
   "cell_type": "markdown",
   "metadata": {
    "id": "waPTsl6V8jmO"
   },
   "source": [
    "#### 13. Create a 10x10 array with random values and find the minimum and maximum values (★☆☆) \n",
    "(**hint**: min, max)"
   ]
  },
  {
   "cell_type": "code",
   "execution_count": 33,
   "metadata": {
    "colab": {
     "base_uri": "https://localhost:8080/"
    },
    "executionInfo": {
     "elapsed": 9,
     "status": "ok",
     "timestamp": 1646892514032,
     "user": {
      "displayName": "divya",
      "photoUrl": "https://lh3.googleusercontent.com/a-/AOh14GgWNNntWPBxiei1pdGSr7kPoDUATSkukD5xV-g7qDs=s64",
      "userId": "00255106542832566666"
     },
     "user_tz": -480
    },
    "id": "bmvDNexK8jmO",
    "outputId": "3eb683b2-273a-4f51-a523-ebbac32633dc"
   },
   "outputs": [
    {
     "name": "stdout",
     "output_type": "stream",
     "text": [
      "0.0009851762595103342 0.9980707408228782\n"
     ]
    }
   ],
   "source": [
    "x = np.random.random((10,10))\n",
    "xmin,xmax = x.min(),x.max()\n",
    "print(xmin,xmax)"
   ]
  },
  {
   "cell_type": "code",
   "execution_count": 34,
   "metadata": {
    "colab": {
     "base_uri": "https://localhost:8080/"
    },
    "executionInfo": {
     "elapsed": 8,
     "status": "ok",
     "timestamp": 1646892514032,
     "user": {
      "displayName": "divya",
      "photoUrl": "https://lh3.googleusercontent.com/a-/AOh14GgWNNntWPBxiei1pdGSr7kPoDUATSkukD5xV-g7qDs=s64",
      "userId": "00255106542832566666"
     },
     "user_tz": -480
    },
    "id": "xR_3xib26a7_",
    "outputId": "ae0c2527-6a23-4d4a-ba70-7fc7848df1fe"
   },
   "outputs": [
    {
     "data": {
      "text/plain": [
       "0.0009851762595103342"
      ]
     },
     "execution_count": 34,
     "metadata": {},
     "output_type": "execute_result"
    }
   ],
   "source": [
    "np.min(x)"
   ]
  },
  {
   "cell_type": "code",
   "execution_count": 35,
   "metadata": {
    "colab": {
     "base_uri": "https://localhost:8080/"
    },
    "executionInfo": {
     "elapsed": 8,
     "status": "ok",
     "timestamp": 1646892514032,
     "user": {
      "displayName": "divya",
      "photoUrl": "https://lh3.googleusercontent.com/a-/AOh14GgWNNntWPBxiei1pdGSr7kPoDUATSkukD5xV-g7qDs=s64",
      "userId": "00255106542832566666"
     },
     "user_tz": -480
    },
    "id": "GLJ3Pawx6avn",
    "outputId": "6b9b9e04-32f2-4800-91f9-d8047fc68c42"
   },
   "outputs": [
    {
     "data": {
      "text/plain": [
       "0.9980707408228782"
      ]
     },
     "execution_count": 35,
     "metadata": {},
     "output_type": "execute_result"
    }
   ],
   "source": [
    "np.max(x)"
   ]
  },
  {
   "cell_type": "markdown",
   "metadata": {
    "id": "Ub9GFu488jmP"
   },
   "source": [
    "#### 14. Create a random vector of size 30 and find the mean value (★☆☆) \n",
    "(**hint**: mean)"
   ]
  },
  {
   "cell_type": "code",
   "execution_count": 36,
   "metadata": {
    "colab": {
     "base_uri": "https://localhost:8080/"
    },
    "executionInfo": {
     "elapsed": 791,
     "status": "ok",
     "timestamp": 1646892514816,
     "user": {
      "displayName": "divya",
      "photoUrl": "https://lh3.googleusercontent.com/a-/AOh14GgWNNntWPBxiei1pdGSr7kPoDUATSkukD5xV-g7qDs=s64",
      "userId": "00255106542832566666"
     },
     "user_tz": -480
    },
    "id": "O2DszGYo8jmQ",
    "outputId": "eec8b960-0e69-437e-afbb-79fdc0132e55"
   },
   "outputs": [
    {
     "data": {
      "text/plain": [
       "array([0.25450865, 0.80367654, 0.91251006, 0.73221217, 0.32904757,\n",
       "       0.88855113, 0.87693842, 0.64355565, 0.99322439, 0.90500382])"
      ]
     },
     "execution_count": 36,
     "metadata": {},
     "output_type": "execute_result"
    }
   ],
   "source": [
    "x=np.random.random(10)\n",
    "x.mean()\n",
    "x"
   ]
  },
  {
   "cell_type": "code",
   "execution_count": 37,
   "metadata": {
    "colab": {
     "base_uri": "https://localhost:8080/"
    },
    "executionInfo": {
     "elapsed": 35,
     "status": "ok",
     "timestamp": 1646892514817,
     "user": {
      "displayName": "divya",
      "photoUrl": "https://lh3.googleusercontent.com/a-/AOh14GgWNNntWPBxiei1pdGSr7kPoDUATSkukD5xV-g7qDs=s64",
      "userId": "00255106542832566666"
     },
     "user_tz": -480
    },
    "id": "BsaPy8pL6y8X",
    "outputId": "8d483877-2f09-41ec-8eb7-020546f07cd2"
   },
   "outputs": [
    {
     "data": {
      "text/plain": [
       "0.733922839141969"
      ]
     },
     "execution_count": 37,
     "metadata": {},
     "output_type": "execute_result"
    }
   ],
   "source": [
    "x.mean()"
   ]
  },
  {
   "cell_type": "markdown",
   "metadata": {
    "id": "lY8FQj_r8jmQ"
   },
   "source": [
    "#### 15. Create a 2d array with 1 on the border and 0 inside (★☆☆) \n",
    "(**hint**: array\\[1:-1, 1:-1\\])"
   ]
  },
  {
   "cell_type": "code",
   "execution_count": 38,
   "metadata": {
    "colab": {
     "base_uri": "https://localhost:8080/"
    },
    "executionInfo": {
     "elapsed": 35,
     "status": "ok",
     "timestamp": 1646892514818,
     "user": {
      "displayName": "divya",
      "photoUrl": "https://lh3.googleusercontent.com/a-/AOh14GgWNNntWPBxiei1pdGSr7kPoDUATSkukD5xV-g7qDs=s64",
      "userId": "00255106542832566666"
     },
     "user_tz": -480
    },
    "id": "mUVFwsTQ8jmR",
    "outputId": "5cb0af51-269a-4590-db90-7c3547ca34b7"
   },
   "outputs": [
    {
     "name": "stdout",
     "output_type": "stream",
     "text": [
      "[[1. 1. 1. 1.]\n",
      " [1. 0. 0. 1.]\n",
      " [1. 0. 0. 1.]\n",
      " [1. 1. 1. 1.]]\n"
     ]
    }
   ],
   "source": [
    "x=np.ones((4,4))\n",
    "x[1:-1, 1:-1] = 0\n",
    "print(x)"
   ]
  },
  {
   "cell_type": "code",
   "execution_count": 39,
   "metadata": {
    "colab": {
     "base_uri": "https://localhost:8080/"
    },
    "executionInfo": {
     "elapsed": 35,
     "status": "ok",
     "timestamp": 1646892514818,
     "user": {
      "displayName": "divya",
      "photoUrl": "https://lh3.googleusercontent.com/a-/AOh14GgWNNntWPBxiei1pdGSr7kPoDUATSkukD5xV-g7qDs=s64",
      "userId": "00255106542832566666"
     },
     "user_tz": -480
    },
    "id": "3Y57yEI67NN1",
    "outputId": "b74509d6-f46f-44f1-9056-26138c000bdf"
   },
   "outputs": [
    {
     "data": {
      "text/plain": [
       "array([[1., 1., 1., 1.],\n",
       "       [1., 0., 0., 1.],\n",
       "       [1., 0., 0., 1.],\n",
       "       [1., 1., 1., 1.]])"
      ]
     },
     "execution_count": 39,
     "metadata": {},
     "output_type": "execute_result"
    }
   ],
   "source": [
    "x[1:-1,1:-1] = 0\n",
    "x"
   ]
  },
  {
   "cell_type": "markdown",
   "metadata": {
    "id": "hZgNW5bJ8jmR"
   },
   "source": [
    "#### 16. How to add a border (filled with 0's) around an existing array? (★☆☆) \n",
    "(**hint**: np.pad)"
   ]
  },
  {
   "cell_type": "code",
   "execution_count": 40,
   "metadata": {
    "colab": {
     "base_uri": "https://localhost:8080/"
    },
    "executionInfo": {
     "elapsed": 35,
     "status": "ok",
     "timestamp": 1646892514818,
     "user": {
      "displayName": "divya",
      "photoUrl": "https://lh3.googleusercontent.com/a-/AOh14GgWNNntWPBxiei1pdGSr7kPoDUATSkukD5xV-g7qDs=s64",
      "userId": "00255106542832566666"
     },
     "user_tz": -480
    },
    "id": "1AYg7lZu8jmS",
    "outputId": "82ae9a42-3cf4-4530-fbaf-fa019fb0b096"
   },
   "outputs": [
    {
     "data": {
      "text/plain": [
       "array([[0., 0., 0., 0., 0., 0.],\n",
       "       [0., 1., 1., 1., 1., 0.],\n",
       "       [0., 1., 0., 0., 1., 0.],\n",
       "       [0., 1., 0., 0., 1., 0.],\n",
       "       [0., 1., 1., 1., 1., 0.],\n",
       "       [0., 0., 0., 0., 0., 0.]])"
      ]
     },
     "execution_count": 40,
     "metadata": {},
     "output_type": "execute_result"
    }
   ],
   "source": [
    "np.pad(x,1,mode='constant')"
   ]
  },
  {
   "cell_type": "markdown",
   "metadata": {
    "id": "lA3x66Wd8jmS"
   },
   "source": [
    "#### 17. What is the result of the following expression? (★☆☆) \n",
    "(**hint**: NaN = not a number, inf = infinity)"
   ]
  },
  {
   "cell_type": "code",
   "execution_count": 41,
   "metadata": {
    "colab": {
     "base_uri": "https://localhost:8080/"
    },
    "executionInfo": {
     "elapsed": 35,
     "status": "ok",
     "timestamp": 1646892514819,
     "user": {
      "displayName": "divya",
      "photoUrl": "https://lh3.googleusercontent.com/a-/AOh14GgWNNntWPBxiei1pdGSr7kPoDUATSkukD5xV-g7qDs=s64",
      "userId": "00255106542832566666"
     },
     "user_tz": -480
    },
    "id": "VTXbU9Bl8jmT",
    "outputId": "64db0747-d0ae-4794-c435-8e620473479b"
   },
   "outputs": [
    {
     "name": "stdout",
     "output_type": "stream",
     "text": [
      "nan\n",
      "False\n",
      "False\n",
      "nan\n",
      "False\n"
     ]
    }
   ],
   "source": [
    "print(0 * np.nan)\n",
    "print(np.nan == np.nan)\n",
    "print(np.inf > np.nan)\n",
    "print(np.nan - np.nan)\n",
    "print(0.3 == 3 * 0.1)"
   ]
  },
  {
   "cell_type": "markdown",
   "metadata": {
    "id": "VKXxfPFQ8jmT"
   },
   "source": [
    "#### 18. Create a 5x5 matrix with values 1,2,3,4 just below the diagonal (★☆☆) \n",
    "(**hint**: np.diag)"
   ]
  },
  {
   "cell_type": "code",
   "execution_count": 42,
   "metadata": {
    "colab": {
     "base_uri": "https://localhost:8080/"
    },
    "executionInfo": {
     "elapsed": 34,
     "status": "ok",
     "timestamp": 1646892514819,
     "user": {
      "displayName": "divya",
      "photoUrl": "https://lh3.googleusercontent.com/a-/AOh14GgWNNntWPBxiei1pdGSr7kPoDUATSkukD5xV-g7qDs=s64",
      "userId": "00255106542832566666"
     },
     "user_tz": -480
    },
    "id": "X1tvp6vV8jmT",
    "outputId": "b54c9df4-9ef6-4694-c339-cf3bb515e055"
   },
   "outputs": [
    {
     "name": "stdout",
     "output_type": "stream",
     "text": [
      "[[0 0 0 0 0]\n",
      " [1 0 0 0 0]\n",
      " [0 2 0 0 0]\n",
      " [0 0 3 0 0]\n",
      " [0 0 0 4 0]]\n"
     ]
    }
   ],
   "source": [
    "x = np.diag(1+np.arange(4), k = -1)\n",
    "print(x)"
   ]
  },
  {
   "cell_type": "markdown",
   "metadata": {
    "id": "vdu0TBNj8jmU"
   },
   "source": [
    "#### 19. Create a 8x8 matrix and fill it with a checkerboard pattern (★☆☆) \n",
    "(**hint**: array\\[::2\\])"
   ]
  },
  {
   "cell_type": "code",
   "execution_count": 43,
   "metadata": {
    "colab": {
     "base_uri": "https://localhost:8080/"
    },
    "executionInfo": {
     "elapsed": 34,
     "status": "ok",
     "timestamp": 1646892514820,
     "user": {
      "displayName": "divya",
      "photoUrl": "https://lh3.googleusercontent.com/a-/AOh14GgWNNntWPBxiei1pdGSr7kPoDUATSkukD5xV-g7qDs=s64",
      "userId": "00255106542832566666"
     },
     "user_tz": -480
    },
    "id": "EndNfePJ8jmU",
    "outputId": "91205626-dd05-47b6-b4b3-0b0739470bc8"
   },
   "outputs": [
    {
     "name": "stdout",
     "output_type": "stream",
     "text": [
      "[[0 1 0 1 0 1 0 1]\n",
      " [1 0 1 0 1 0 1 0]\n",
      " [0 1 0 1 0 1 0 1]\n",
      " [1 0 1 0 1 0 1 0]\n",
      " [0 1 0 1 0 1 0 1]\n",
      " [1 0 1 0 1 0 1 0]\n",
      " [0 1 0 1 0 1 0 1]\n",
      " [1 0 1 0 1 0 1 0]]\n"
     ]
    }
   ],
   "source": [
    "x=np.zeros((8,8),dtype=int)\n",
    "x[1::2,::2] = 1\n",
    "x[::2,1::2] = 1\n",
    "print(x)"
   ]
  },
  {
   "cell_type": "markdown",
   "metadata": {
    "id": "9U6zm0MH8jmU"
   },
   "source": [
    "#### 20. Consider a (6,7,8) shape array, what is the index (x,y,z) of the 100th element? \n",
    "(**hint**: np.unravel_index)"
   ]
  },
  {
   "cell_type": "code",
   "execution_count": 44,
   "metadata": {
    "colab": {
     "base_uri": "https://localhost:8080/"
    },
    "executionInfo": {
     "elapsed": 35,
     "status": "ok",
     "timestamp": 1646892514821,
     "user": {
      "displayName": "divya",
      "photoUrl": "https://lh3.googleusercontent.com/a-/AOh14GgWNNntWPBxiei1pdGSr7kPoDUATSkukD5xV-g7qDs=s64",
      "userId": "00255106542832566666"
     },
     "user_tz": -480
    },
    "id": "KnQzLasN8jmV",
    "outputId": "560de60c-832c-496d-9608-ee723d140b1f"
   },
   "outputs": [
    {
     "name": "stdout",
     "output_type": "stream",
     "text": [
      "(1, 5, 4)\n"
     ]
    }
   ],
   "source": [
    "print(np.unravel_index(100, (6,7,8)))"
   ]
  },
  {
   "cell_type": "markdown",
   "metadata": {
    "id": "GCw0vZWR8jmV"
   },
   "source": [
    "#### 21. Create a checkerboard 8x8 matrix using the tile function (★☆☆) \n",
    "(**hint**: np.tile)"
   ]
  },
  {
   "cell_type": "code",
   "execution_count": 45,
   "metadata": {
    "colab": {
     "base_uri": "https://localhost:8080/"
    },
    "executionInfo": {
     "elapsed": 35,
     "status": "ok",
     "timestamp": 1646892514821,
     "user": {
      "displayName": "divya",
      "photoUrl": "https://lh3.googleusercontent.com/a-/AOh14GgWNNntWPBxiei1pdGSr7kPoDUATSkukD5xV-g7qDs=s64",
      "userId": "00255106542832566666"
     },
     "user_tz": -480
    },
    "id": "B4JTAdcv8jmV",
    "outputId": "bcdd4d5c-028b-4b96-fc8f-f95850605ced"
   },
   "outputs": [
    {
     "name": "stdout",
     "output_type": "stream",
     "text": [
      "[[0 1 0 1 0 1 0 1]\n",
      " [1 0 1 0 1 0 1 0]\n",
      " [0 1 0 1 0 1 0 1]\n",
      " [1 0 1 0 1 0 1 0]\n",
      " [0 1 0 1 0 1 0 1]\n",
      " [1 0 1 0 1 0 1 0]\n",
      " [0 1 0 1 0 1 0 1]\n",
      " [1 0 1 0 1 0 1 0]]\n"
     ]
    }
   ],
   "source": [
    "array= np.array([[0,1], [1,0]])\n",
    "x = np.tile(array,(4,4))\n",
    "print (x)"
   ]
  },
  {
   "cell_type": "markdown",
   "metadata": {
    "id": "e-B3p7kI8jmW"
   },
   "source": [
    "#### 22. Normalize a 5x5 random matrix (★☆☆) \n",
    "(**hint**: (x - min) / (max - min))"
   ]
  },
  {
   "cell_type": "code",
   "execution_count": 46,
   "metadata": {
    "colab": {
     "base_uri": "https://localhost:8080/"
    },
    "executionInfo": {
     "elapsed": 35,
     "status": "ok",
     "timestamp": 1646892514822,
     "user": {
      "displayName": "divya",
      "photoUrl": "https://lh3.googleusercontent.com/a-/AOh14GgWNNntWPBxiei1pdGSr7kPoDUATSkukD5xV-g7qDs=s64",
      "userId": "00255106542832566666"
     },
     "user_tz": -480
    },
    "id": "UhJkkPr78jmW",
    "outputId": "316c0736-94bb-4a3f-a758-ba42cc60ca49"
   },
   "outputs": [
    {
     "name": "stdout",
     "output_type": "stream",
     "text": [
      "[[0.43523309 0.93042937 0.62077993 0.86029361 0.37297505]\n",
      " [0.884627   0.11516674 0.50977507 0.93087091 0.        ]\n",
      " [0.51855294 1.         0.21857754 0.13151589 0.79823506]\n",
      " [0.16723474 0.23655186 0.91645404 0.5936613  0.46366886]\n",
      " [0.4406422  0.31005774 0.63224557 0.46772484 0.63628162]]\n"
     ]
    }
   ],
   "source": [
    "x = np.random.random((5,5))\n",
    "xmax, xmin = x.max(), x.min()\n",
    "x= (x-xmin)/(xmax-xmin)\n",
    "print (x)"
   ]
  },
  {
   "cell_type": "markdown",
   "metadata": {
    "id": "TQDGsrMx8jmW"
   },
   "source": [
    "#### 23. Create a custom dtype that describes a color as four unsigned bytes (RGBA) (★☆☆) \n",
    "(**hint**: np.dtype)"
   ]
  },
  {
   "cell_type": "code",
   "execution_count": 47,
   "metadata": {
    "colab": {
     "base_uri": "https://localhost:8080/"
    },
    "collapsed": true,
    "executionInfo": {
     "elapsed": 35,
     "status": "ok",
     "timestamp": 1646892514822,
     "user": {
      "displayName": "divya",
      "photoUrl": "https://lh3.googleusercontent.com/a-/AOh14GgWNNntWPBxiei1pdGSr7kPoDUATSkukD5xV-g7qDs=s64",
      "userId": "00255106542832566666"
     },
     "user_tz": -480
    },
    "id": "WPBDmwsh8jmW",
    "outputId": "4675d537-f6f3-4ae0-806e-ea5d10150c5e"
   },
   "outputs": [
    {
     "data": {
      "text/plain": [
       "dtype([('r', 'u1'), ('g', 'u1'), ('b', 'u1'), ('a', 'u1')])"
      ]
     },
     "execution_count": 47,
     "metadata": {},
     "output_type": "execute_result"
    }
   ],
   "source": [
    "color = np.dtype([(\"r\", np.ubyte),\n",
    "                  (\"g\", np.ubyte),\n",
    "                  (\"b\", np.ubyte),\n",
    "                  (\"a\", np.ubyte)])\n",
    "color"
   ]
  },
  {
   "cell_type": "markdown",
   "metadata": {
    "id": "-PmNR9S-8jmX"
   },
   "source": [
    "#### 24. Multiply a 5x3 matrix by a 3x2 matrix (real matrix product) (★☆☆) \n",
    "(**hint**: np.dot | @)"
   ]
  },
  {
   "cell_type": "code",
   "execution_count": 48,
   "metadata": {
    "colab": {
     "base_uri": "https://localhost:8080/"
    },
    "executionInfo": {
     "elapsed": 34,
     "status": "ok",
     "timestamp": 1646892514822,
     "user": {
      "displayName": "divya",
      "photoUrl": "https://lh3.googleusercontent.com/a-/AOh14GgWNNntWPBxiei1pdGSr7kPoDUATSkukD5xV-g7qDs=s64",
      "userId": "00255106542832566666"
     },
     "user_tz": -480
    },
    "id": "g6t_gsIf8jmX",
    "outputId": "7215c500-7bf5-4567-ced8-b767311c5ee1"
   },
   "outputs": [
    {
     "name": "stdout",
     "output_type": "stream",
     "text": [
      "[[3. 3.]\n",
      " [3. 3.]\n",
      " [3. 3.]\n",
      " [3. 3.]\n",
      " [3. 3.]]\n"
     ]
    }
   ],
   "source": [
    "x= np.dot(np.ones((5,3)), np.ones((3,2)))\n",
    "print (x)"
   ]
  },
  {
   "cell_type": "markdown",
   "metadata": {
    "id": "LmFOiyfY8jmX"
   },
   "source": [
    "#### 25.  Given a array, negate all elements which are between 3 and 8, in place. (★☆☆) \n",
    "(**hint**: >, <=)"
   ]
  },
  {
   "cell_type": "code",
   "execution_count": 49,
   "metadata": {
    "colab": {
     "base_uri": "https://localhost:8080/"
    },
    "executionInfo": {
     "elapsed": 34,
     "status": "ok",
     "timestamp": 1646892514822,
     "user": {
      "displayName": "divya",
      "photoUrl": "https://lh3.googleusercontent.com/a-/AOh14GgWNNntWPBxiei1pdGSr7kPoDUATSkukD5xV-g7qDs=s64",
      "userId": "00255106542832566666"
     },
     "user_tz": -480
    },
    "id": "ikWWa0rH8jmX",
    "outputId": "01edae66-16f2-41af-adee-349ceb933881"
   },
   "outputs": [
    {
     "name": "stdout",
     "output_type": "stream",
     "text": [
      "[ 0  1  2  3 -4 -5 -6 -7  8  9 10]\n"
     ]
    }
   ],
   "source": [
    "x = np.arange(11)\n",
    "x[(3 < x) & (x < 8)] *= -1\n",
    "print(x)"
   ]
  },
  {
   "cell_type": "markdown",
   "metadata": {
    "id": "31rl8KYz8jmY"
   },
   "source": [
    "#### 26. What is the output of the following script? (★☆☆) \n",
    "(**hint**: np.sum)"
   ]
  },
  {
   "cell_type": "code",
   "execution_count": 50,
   "metadata": {
    "colab": {
     "base_uri": "https://localhost:8080/"
    },
    "executionInfo": {
     "elapsed": 34,
     "status": "ok",
     "timestamp": 1646892514823,
     "user": {
      "displayName": "divya",
      "photoUrl": "https://lh3.googleusercontent.com/a-/AOh14GgWNNntWPBxiei1pdGSr7kPoDUATSkukD5xV-g7qDs=s64",
      "userId": "00255106542832566666"
     },
     "user_tz": -480
    },
    "id": "Y5RSAlWJ8jmZ",
    "outputId": "9782ede4-04b9-4fdf-fd73-1d79fe82a4c7"
   },
   "outputs": [
    {
     "name": "stdout",
     "output_type": "stream",
     "text": [
      "9\n",
      "10\n"
     ]
    }
   ],
   "source": [
    "print(sum(range(5),-1))\n",
    "from numpy import *\n",
    "print(sum(range(5),-1))"
   ]
  },
  {
   "cell_type": "markdown",
   "metadata": {
    "id": "amrSBxxL8jmZ"
   },
   "source": [
    "#### 27. Consider an integer vector Z, which of these expressions are legal? (★☆☆)"
   ]
  },
  {
   "cell_type": "code",
   "execution_count": 51,
   "metadata": {
    "colab": {
     "base_uri": "https://localhost:8080/",
     "height": 235
    },
    "executionInfo": {
     "elapsed": 34,
     "status": "error",
     "timestamp": 1646892514823,
     "user": {
      "displayName": "divya",
      "photoUrl": "https://lh3.googleusercontent.com/a-/AOh14GgWNNntWPBxiei1pdGSr7kPoDUATSkukD5xV-g7qDs=s64",
      "userId": "00255106542832566666"
     },
     "user_tz": -480
    },
    "id": "W5SqrXl28jma",
    "outputId": "e943625c-a30c-4733-d836-76e854f4e439"
   },
   "outputs": [
    {
     "ename": "TypeError",
     "evalue": "ignored",
     "output_type": "error",
     "traceback": [
      "\u001b[0;31m---------------------------------------------------------------------------\u001b[0m",
      "\u001b[0;31mTypeError\u001b[0m                                 Traceback (most recent call last)",
      "\u001b[0;32m<ipython-input-51-12acf0b162da>\u001b[0m in \u001b[0;36m<module>\u001b[0;34m()\u001b[0m\n\u001b[0;32m----> 1\u001b[0;31m \u001b[0mZ\u001b[0m\u001b[0;34m**\u001b[0m\u001b[0mZ\u001b[0m\u001b[0;34m\u001b[0m\u001b[0;34m\u001b[0m\u001b[0m\n\u001b[0m\u001b[1;32m      2\u001b[0m \u001b[0;36m2\u001b[0m \u001b[0;34m<<\u001b[0m \u001b[0mZ\u001b[0m \u001b[0;34m>>\u001b[0m\u001b[0;36m2\u001b[0m\u001b[0;34m\u001b[0m\u001b[0;34m\u001b[0m\u001b[0m\n\u001b[1;32m      3\u001b[0m \u001b[0mZ\u001b[0m\u001b[0;34m<\u001b[0m\u001b[0;34m-\u001b[0m \u001b[0mZ\u001b[0m\u001b[0;34m\u001b[0m\u001b[0;34m\u001b[0m\u001b[0m\n\u001b[1;32m      4\u001b[0m \u001b[0;36m1j\u001b[0m\u001b[0;34m*\u001b[0m\u001b[0mZ\u001b[0m\u001b[0;34m\u001b[0m\u001b[0;34m\u001b[0m\u001b[0m\n\u001b[1;32m      5\u001b[0m \u001b[0mZ\u001b[0m\u001b[0;34m/\u001b[0m\u001b[0;36m1\u001b[0m\u001b[0;34m/\u001b[0m\u001b[0;36m1\u001b[0m\u001b[0;34m\u001b[0m\u001b[0;34m\u001b[0m\u001b[0m\n",
      "\u001b[0;31mTypeError\u001b[0m: ufunc 'power' not supported for the input types, and the inputs could not be safely coerced to any supported types according to the casting rule ''safe''"
     ]
    }
   ],
   "source": [
    "Z**Z\n",
    "2 << Z >>2\n",
    "Z<- Z\n",
    "1j*Z\n",
    "Z/1/1\n",
    "#Z<Z<Z"
   ]
  },
  {
   "cell_type": "code",
   "execution_count": 59,
   "metadata": {
    "colab": {
     "base_uri": "https://localhost:8080/"
    },
    "executionInfo": {
     "elapsed": 529,
     "status": "ok",
     "timestamp": 1646892670284,
     "user": {
      "displayName": "divya",
      "photoUrl": "https://lh3.googleusercontent.com/a-/AOh14GgWNNntWPBxiei1pdGSr7kPoDUATSkukD5xV-g7qDs=s64",
      "userId": "00255106542832566666"
     },
     "user_tz": -480
    },
    "id": "CoSbWQUCRvs0",
    "outputId": "19d9a5ed-5d93-41e9-bc03-935b15309fdc"
   },
   "outputs": [
    {
     "name": "stdout",
     "output_type": "stream",
     "text": [
      "[  0   1   2   4   0   0   0   0 128 256 512]\n",
      "[False False False False  True  True  True  True False False False]\n",
      "[ 0. +0.j  0. +1.j  0. +2.j  0. +3.j -0. -4.j -0. -5.j -0. -6.j -0. -7.j\n",
      "  0. +8.j  0. +9.j  0.+10.j]\n",
      "[ 0.  1.  2.  3. -4. -5. -6. -7.  8.  9. 10.]\n"
     ]
    }
   ],
   "source": [
    "#print(x**x)                  # negative integars are not allowed\n",
    "print(2 << x >> 2)\n",
    "print(x <- x)\n",
    "print(1j*x)\n",
    "print(x/1/1)\n",
    "#print(x<x>x) error"
   ]
  },
  {
   "cell_type": "markdown",
   "metadata": {
    "id": "6sAwYid48jma"
   },
   "source": [
    "#### 28. What are the result of the following expressions?"
   ]
  },
  {
   "cell_type": "markdown",
   "metadata": {
    "id": "M95bV7JD8jmb"
   },
   "source": [
    "```python\n",
    "np.array(0) / np.array(0)\n",
    "np.array(0) // np.array(0)\n",
    "np.array([np.nan]).astype(int).astype(float)\n",
    "```"
   ]
  },
  {
   "cell_type": "code",
   "execution_count": 60,
   "metadata": {
    "colab": {
     "base_uri": "https://localhost:8080/"
    },
    "executionInfo": {
     "elapsed": 327,
     "status": "ok",
     "timestamp": 1646892673516,
     "user": {
      "displayName": "divya",
      "photoUrl": "https://lh3.googleusercontent.com/a-/AOh14GgWNNntWPBxiei1pdGSr7kPoDUATSkukD5xV-g7qDs=s64",
      "userId": "00255106542832566666"
     },
     "user_tz": -480
    },
    "id": "-fsgLz158jmb",
    "outputId": "a73074e6-8e94-4ace-98f6-302fad167a3a"
   },
   "outputs": [
    {
     "name": "stdout",
     "output_type": "stream",
     "text": [
      "nan\n",
      "0\n",
      "[-9.22337204e+18]\n"
     ]
    },
    {
     "name": "stderr",
     "output_type": "stream",
     "text": [
      "/usr/local/lib/python3.7/dist-packages/ipykernel_launcher.py:1: RuntimeWarning: invalid value encountered in true_divide\n",
      "  \"\"\"Entry point for launching an IPython kernel.\n",
      "/usr/local/lib/python3.7/dist-packages/ipykernel_launcher.py:2: RuntimeWarning: divide by zero encountered in floor_divide\n",
      "  \n"
     ]
    }
   ],
   "source": [
    "print(np.array(0) / np.array(0))\n",
    "print(np.array(0) // np.array(0))\n",
    "print(np.array([np.nan]).astype(int).astype(float))"
   ]
  },
  {
   "cell_type": "markdown",
   "metadata": {
    "id": "qwbCxtJf8jmb"
   },
   "source": [
    "#### 29. How to round away from zero a float array ? (★☆☆) \n",
    "(**hint**: np.uniform, np.copysign, np.ceil, np.abs)"
   ]
  },
  {
   "cell_type": "code",
   "execution_count": 61,
   "metadata": {
    "colab": {
     "base_uri": "https://localhost:8080/"
    },
    "executionInfo": {
     "elapsed": 323,
     "status": "ok",
     "timestamp": 1646892677433,
     "user": {
      "displayName": "divya",
      "photoUrl": "https://lh3.googleusercontent.com/a-/AOh14GgWNNntWPBxiei1pdGSr7kPoDUATSkukD5xV-g7qDs=s64",
      "userId": "00255106542832566666"
     },
     "user_tz": -480
    },
    "id": "hB2hnS-N8jmb",
    "outputId": "6cfe5370-bf65-45b8-c837-e8dea76e84e7"
   },
   "outputs": [
    {
     "name": "stdout",
     "output_type": "stream",
     "text": [
      "[-5.  6.  3. -7.  1.  3.  6. -8.  9. -7.]\n"
     ]
    }
   ],
   "source": [
    "## Author: Charles R Harris\n",
    "\n",
    "x = np.random.uniform(-10,+10,10)\n",
    "print(np.copysign(np.ceil(np.abs(x)), x))"
   ]
  },
  {
   "cell_type": "markdown",
   "metadata": {
    "id": "Aoo1Z5GK8jmc"
   },
   "source": [
    "#### 30. How to find common values between two arrays? (★☆☆) \n",
    "(**hint**: np.intersect1d)"
   ]
  },
  {
   "cell_type": "code",
   "execution_count": 62,
   "metadata": {
    "colab": {
     "base_uri": "https://localhost:8080/"
    },
    "executionInfo": {
     "elapsed": 319,
     "status": "ok",
     "timestamp": 1646892681562,
     "user": {
      "displayName": "divya",
      "photoUrl": "https://lh3.googleusercontent.com/a-/AOh14GgWNNntWPBxiei1pdGSr7kPoDUATSkukD5xV-g7qDs=s64",
      "userId": "00255106542832566666"
     },
     "user_tz": -480
    },
    "id": "O4CsDaBP8jmc",
    "outputId": "1aaee5ba-d7ae-4285-eb1c-6e22b85a2ea2"
   },
   "outputs": [
    {
     "name": "stdout",
     "output_type": "stream",
     "text": [
      "[1 2 3 6]\n"
     ]
    }
   ],
   "source": [
    "x1 = np.random.randint(0,10,10)\n",
    "x2 = np.random.randint(0,10,10)\n",
    "print(np.intersect1d(x1,x2))"
   ]
  },
  {
   "cell_type": "markdown",
   "metadata": {
    "id": "PL62xHF48jmc"
   },
   "source": [
    "#### 31. How to ignore all numpy warnings (not recommended)? (★☆☆) \n",
    "(**hint**: np.seterr, np.errstate)"
   ]
  },
  {
   "cell_type": "code",
   "execution_count": 63,
   "metadata": {
    "colab": {
     "base_uri": "https://localhost:8080/"
    },
    "executionInfo": {
     "elapsed": 323,
     "status": "ok",
     "timestamp": 1646892686101,
     "user": {
      "displayName": "divya",
      "photoUrl": "https://lh3.googleusercontent.com/a-/AOh14GgWNNntWPBxiei1pdGSr7kPoDUATSkukD5xV-g7qDs=s64",
      "userId": "00255106542832566666"
     },
     "user_tz": -480
    },
    "id": "FHYmFPho8jmc",
    "outputId": "d440fc97-10c6-4abc-92b8-659ce6e4ff53"
   },
   "outputs": [
    {
     "data": {
      "text/plain": [
       "array([inf])"
      ]
     },
     "execution_count": 63,
     "metadata": {},
     "output_type": "execute_result"
    }
   ],
   "source": [
    "defaults = np.seterr(all=\"ignore\")\n",
    "x = np.ones(1) / 0\n",
    "x"
   ]
  },
  {
   "cell_type": "code",
   "execution_count": 65,
   "metadata": {
    "executionInfo": {
     "elapsed": 2,
     "status": "ok",
     "timestamp": 1646892697271,
     "user": {
      "displayName": "divya",
      "photoUrl": "https://lh3.googleusercontent.com/a-/AOh14GgWNNntWPBxiei1pdGSr7kPoDUATSkukD5xV-g7qDs=s64",
      "userId": "00255106542832566666"
     },
     "user_tz": -480
    },
    "id": "BUp7XwJCghG7"
   },
   "outputs": [],
   "source": [
    "with np.errstate(all=\"ignore\"):\n",
    "    np.arange(3) / 0"
   ]
  },
  {
   "cell_type": "markdown",
   "metadata": {
    "id": "OOB5L5-g8jmc"
   },
   "source": [
    "#### 32. Is the following expressions true? (★☆☆) \n",
    "(**hint**: imaginary number)"
   ]
  },
  {
   "cell_type": "markdown",
   "metadata": {
    "id": "9tea78UK8jmd"
   },
   "source": [
    "```python\n",
    "np.sqrt(-1) == np.emath.sqrt(-1)\n",
    "```"
   ]
  },
  {
   "cell_type": "code",
   "execution_count": 64,
   "metadata": {
    "colab": {
     "base_uri": "https://localhost:8080/"
    },
    "executionInfo": {
     "elapsed": 321,
     "status": "ok",
     "timestamp": 1646892694612,
     "user": {
      "displayName": "divya",
      "photoUrl": "https://lh3.googleusercontent.com/a-/AOh14GgWNNntWPBxiei1pdGSr7kPoDUATSkukD5xV-g7qDs=s64",
      "userId": "00255106542832566666"
     },
     "user_tz": -480
    },
    "id": "GEEIjwmB8jmd",
    "outputId": "4ee44b7e-79ee-40df-af2c-0aa66fc7da5e"
   },
   "outputs": [
    {
     "name": "stdout",
     "output_type": "stream",
     "text": [
      "False\n"
     ]
    }
   ],
   "source": [
    "print(np.sqrt(-1) == np.emath.sqrt(-1))"
   ]
  },
  {
   "cell_type": "markdown",
   "metadata": {
    "id": "T-DQXoHZ8jmd"
   },
   "source": [
    "#### 33. How to get the dates of yesterday, today and tomorrow? (★☆☆) \n",
    "(**hint**: np.datetime64, np.timedelta64)"
   ]
  },
  {
   "cell_type": "code",
   "execution_count": 66,
   "metadata": {
    "collapsed": true,
    "executionInfo": {
     "elapsed": 2,
     "status": "ok",
     "timestamp": 1646892705222,
     "user": {
      "displayName": "divya",
      "photoUrl": "https://lh3.googleusercontent.com/a-/AOh14GgWNNntWPBxiei1pdGSr7kPoDUATSkukD5xV-g7qDs=s64",
      "userId": "00255106542832566666"
     },
     "user_tz": -480
    },
    "id": "mQRlsp568jmd"
   },
   "outputs": [],
   "source": [
    "yesterday = np.datetime64('today') - np.timedelta64(1)\n",
    "today     = np.datetime64('today')\n",
    "tomorrow  = np.datetime64('today') + np.timedelta64(1)"
   ]
  },
  {
   "cell_type": "markdown",
   "metadata": {
    "id": "rW0h7IJi8jme"
   },
   "source": [
    "#### 34. How to get all the dates corresponding to the month of July 2016? (★★☆) \n",
    "(**hint**: np.arange(dtype=datetime64\\['D'\\]))"
   ]
  },
  {
   "cell_type": "code",
   "execution_count": 67,
   "metadata": {
    "colab": {
     "base_uri": "https://localhost:8080/"
    },
    "executionInfo": {
     "elapsed": 590,
     "status": "ok",
     "timestamp": 1646892709293,
     "user": {
      "displayName": "divya",
      "photoUrl": "https://lh3.googleusercontent.com/a-/AOh14GgWNNntWPBxiei1pdGSr7kPoDUATSkukD5xV-g7qDs=s64",
      "userId": "00255106542832566666"
     },
     "user_tz": -480
    },
    "id": "KiRA8Hn28jmf",
    "outputId": "6d13c999-f06c-45c4-b7d0-f28e6759ffef"
   },
   "outputs": [
    {
     "name": "stdout",
     "output_type": "stream",
     "text": [
      "['2016-07-01' '2016-07-02' '2016-07-03' '2016-07-04' '2016-07-05'\n",
      " '2016-07-06' '2016-07-07' '2016-07-08' '2016-07-09' '2016-07-10'\n",
      " '2016-07-11' '2016-07-12' '2016-07-13' '2016-07-14' '2016-07-15'\n",
      " '2016-07-16' '2016-07-17' '2016-07-18' '2016-07-19' '2016-07-20'\n",
      " '2016-07-21' '2016-07-22' '2016-07-23' '2016-07-24' '2016-07-25'\n",
      " '2016-07-26' '2016-07-27' '2016-07-28' '2016-07-29' '2016-07-30'\n",
      " '2016-07-31']\n"
     ]
    }
   ],
   "source": [
    "Z = np.arange('2016-07', '2016-08', dtype='datetime64[D]')\n",
    "print(Z)"
   ]
  },
  {
   "cell_type": "markdown",
   "metadata": {
    "id": "eTB5jqFP8jmg"
   },
   "source": [
    "#### 35. How to compute ((A+B)\\*(-A/2)) in place (without copy)? (★★☆) \n",
    "(**hint**: np.add(out=), np.negative(out=), np.multiply(out=), np.divide(out=))"
   ]
  },
  {
   "cell_type": "code",
   "execution_count": 68,
   "metadata": {
    "colab": {
     "base_uri": "https://localhost:8080/"
    },
    "executionInfo": {
     "elapsed": 433,
     "status": "ok",
     "timestamp": 1646892713107,
     "user": {
      "displayName": "divya",
      "photoUrl": "https://lh3.googleusercontent.com/a-/AOh14GgWNNntWPBxiei1pdGSr7kPoDUATSkukD5xV-g7qDs=s64",
      "userId": "00255106542832566666"
     },
     "user_tz": -480
    },
    "id": "s3wxUz598jmg",
    "outputId": "228e55d9-7e36-4ec5-8282-3e406cad15bb"
   },
   "outputs": [
    {
     "data": {
      "text/plain": [
       "array([-1.5, -1.5, -1.5])"
      ]
     },
     "execution_count": 68,
     "metadata": {},
     "output_type": "execute_result"
    }
   ],
   "source": [
    "A = np.ones(3)*1\n",
    "B = np.ones(3)*2\n",
    "np.add(A,B,out=B)\n",
    "np.divide(A,2,out=A)\n",
    "np.negative(A,out=A)\n",
    "np.multiply(A,B,out=A)\n"
   ]
  },
  {
   "cell_type": "markdown",
   "metadata": {
    "id": "mr9abzuv8jmg"
   },
   "source": [
    "#### 36. Extract the integer part of a random array using 5 different methods (★★☆) \n",
    "(**hint**: %, np.floor, np.ceil, astype, np.trunc)"
   ]
  },
  {
   "cell_type": "code",
   "execution_count": 69,
   "metadata": {
    "colab": {
     "base_uri": "https://localhost:8080/"
    },
    "executionInfo": {
     "elapsed": 3,
     "status": "ok",
     "timestamp": 1646892716012,
     "user": {
      "displayName": "divya",
      "photoUrl": "https://lh3.googleusercontent.com/a-/AOh14GgWNNntWPBxiei1pdGSr7kPoDUATSkukD5xV-g7qDs=s64",
      "userId": "00255106542832566666"
     },
     "user_tz": -480
    },
    "id": "WTJGBF0i8jmh",
    "outputId": "94c2dfba-d0ca-437b-b833-7f5c5688d49e"
   },
   "outputs": [
    {
     "name": "stdout",
     "output_type": "stream",
     "text": [
      "[9. 6. 2. 9. 4. 7. 2. 2. 4. 0.]\n",
      "[9. 6. 2. 9. 4. 7. 2. 2. 4. 0.]\n",
      "[9. 6. 2. 9. 4. 7. 2. 2. 4. 0.]\n",
      "[9 6 2 9 4 7 2 2 4 0]\n",
      "[9. 6. 2. 9. 4. 7. 2. 2. 4. 0.]\n"
     ]
    }
   ],
   "source": [
    "x = np.random.uniform(0,10,10)\n",
    "\n",
    "print(x - x%1)\n",
    "print(x // 1)\n",
    "print(np.floor(x))\n",
    "print(x.astype(int))\n",
    "print(np.trunc(x))"
   ]
  },
  {
   "cell_type": "markdown",
   "metadata": {
    "id": "_dJcG61G8jmh"
   },
   "source": [
    "#### 37. Create a 5x5 matrix with row values ranging from 0 to 4 (★★☆) \n",
    "(**hint**: np.arange)"
   ]
  },
  {
   "cell_type": "code",
   "execution_count": 70,
   "metadata": {
    "colab": {
     "base_uri": "https://localhost:8080/"
    },
    "executionInfo": {
     "elapsed": 338,
     "status": "ok",
     "timestamp": 1646892722886,
     "user": {
      "displayName": "divya",
      "photoUrl": "https://lh3.googleusercontent.com/a-/AOh14GgWNNntWPBxiei1pdGSr7kPoDUATSkukD5xV-g7qDs=s64",
      "userId": "00255106542832566666"
     },
     "user_tz": -480
    },
    "id": "mLpmNkXi8jmh",
    "outputId": "37bd8095-3977-4dbe-e654-ce51849a8370"
   },
   "outputs": [
    {
     "name": "stdout",
     "output_type": "stream",
     "text": [
      "[[0. 1. 2. 3. 4.]\n",
      " [0. 1. 2. 3. 4.]\n",
      " [0. 1. 2. 3. 4.]\n",
      " [0. 1. 2. 3. 4.]\n",
      " [0. 1. 2. 3. 4.]]\n"
     ]
    }
   ],
   "source": [
    "x = np.zeros((5,5))\n",
    "x += np.arange(5)\n",
    "print(x)"
   ]
  },
  {
   "cell_type": "markdown",
   "metadata": {
    "id": "cBCz-BTI8jmh"
   },
   "source": [
    "#### 38. Consider a generator function that generates 10 integers and use it to build an array (★☆☆) \n",
    "(**hint**: np.fromiter)"
   ]
  },
  {
   "cell_type": "code",
   "execution_count": 71,
   "metadata": {
    "colab": {
     "base_uri": "https://localhost:8080/"
    },
    "executionInfo": {
     "elapsed": 326,
     "status": "ok",
     "timestamp": 1646892726958,
     "user": {
      "displayName": "divya",
      "photoUrl": "https://lh3.googleusercontent.com/a-/AOh14GgWNNntWPBxiei1pdGSr7kPoDUATSkukD5xV-g7qDs=s64",
      "userId": "00255106542832566666"
     },
     "user_tz": -480
    },
    "id": "wcpNeC7f8jmi",
    "outputId": "eb544340-1632-4f3a-b4ff-2a5ac29f7077"
   },
   "outputs": [
    {
     "name": "stdout",
     "output_type": "stream",
     "text": [
      "[0. 1. 2. 3. 4. 5. 6. 7. 8. 9.]\n"
     ]
    }
   ],
   "source": [
    "def generate(): \n",
    "    for x in range(10):\n",
    "        yield x\n",
    "        \n",
    "X = np.fromiter(generate(), dtype=float, count=-1)\n",
    "print(X)"
   ]
  },
  {
   "cell_type": "markdown",
   "metadata": {
    "id": "7gplfwo48jmi"
   },
   "source": [
    "#### 39. Create a vector of size 10 with values ranging from 0 to 1, both excluded (★★☆) \n",
    "(**hint**: np.linspace)"
   ]
  },
  {
   "cell_type": "code",
   "execution_count": 72,
   "metadata": {
    "colab": {
     "base_uri": "https://localhost:8080/"
    },
    "executionInfo": {
     "elapsed": 331,
     "status": "ok",
     "timestamp": 1646892730268,
     "user": {
      "displayName": "divya",
      "photoUrl": "https://lh3.googleusercontent.com/a-/AOh14GgWNNntWPBxiei1pdGSr7kPoDUATSkukD5xV-g7qDs=s64",
      "userId": "00255106542832566666"
     },
     "user_tz": -480
    },
    "id": "P868vvnb8jmi",
    "outputId": "0cef082c-d866-4a56-ac1a-86d934d9b44f"
   },
   "outputs": [
    {
     "data": {
      "text/plain": [
       "array([0.09090909, 0.18181818, 0.27272727, 0.36363636, 0.45454545,\n",
       "       0.54545455, 0.63636364, 0.72727273, 0.81818182, 0.90909091])"
      ]
     },
     "execution_count": 72,
     "metadata": {},
     "output_type": "execute_result"
    }
   ],
   "source": [
    "a = np.linspace(0,1,12,endpoint=True)[1:-1]\n",
    "a"
   ]
  },
  {
   "cell_type": "markdown",
   "metadata": {
    "id": "nfk4JftY8jmi"
   },
   "source": [
    "#### 40. Create a random vector of size 10 and sort it (★★☆) \n",
    "(**hint**: sort)"
   ]
  },
  {
   "cell_type": "code",
   "execution_count": 73,
   "metadata": {
    "colab": {
     "base_uri": "https://localhost:8080/"
    },
    "executionInfo": {
     "elapsed": 405,
     "status": "ok",
     "timestamp": 1646892733879,
     "user": {
      "displayName": "divya",
      "photoUrl": "https://lh3.googleusercontent.com/a-/AOh14GgWNNntWPBxiei1pdGSr7kPoDUATSkukD5xV-g7qDs=s64",
      "userId": "00255106542832566666"
     },
     "user_tz": -480
    },
    "id": "riVrQiUS8jmi",
    "outputId": "7c961e51-59c7-437c-f6b1-4c6cd82b7014"
   },
   "outputs": [
    {
     "data": {
      "text/plain": [
       "array([0.07517883, 0.34963112, 0.42937315, 0.47252816, 0.51683414,\n",
       "       0.54823157, 0.5553118 , 0.86336608, 0.90022628, 0.93367792])"
      ]
     },
     "execution_count": 73,
     "metadata": {},
     "output_type": "execute_result"
    }
   ],
   "source": [
    "a = np.random.random(10)\n",
    "a.sort()\n",
    "a"
   ]
  },
  {
   "cell_type": "markdown",
   "metadata": {
    "id": "G09xRPfC8jmj"
   },
   "source": [
    "#### 41. How to sum a small array faster than np.sum? (★★☆) \n",
    "(**hint**: np.add.reduce)"
   ]
  },
  {
   "cell_type": "code",
   "execution_count": 74,
   "metadata": {
    "colab": {
     "base_uri": "https://localhost:8080/"
    },
    "executionInfo": {
     "elapsed": 327,
     "status": "ok",
     "timestamp": 1646892737101,
     "user": {
      "displayName": "divya",
      "photoUrl": "https://lh3.googleusercontent.com/a-/AOh14GgWNNntWPBxiei1pdGSr7kPoDUATSkukD5xV-g7qDs=s64",
      "userId": "00255106542832566666"
     },
     "user_tz": -480
    },
    "id": "s-GDDYTw8jmj",
    "outputId": "3599beec-e8aa-4417-c75d-7a407a49ff09"
   },
   "outputs": [
    {
     "data": {
      "text/plain": [
       "45"
      ]
     },
     "execution_count": 74,
     "metadata": {},
     "output_type": "execute_result"
    }
   ],
   "source": [
    "x = np.arange(10)\n",
    "np.add.reduce(x)"
   ]
  },
  {
   "cell_type": "markdown",
   "metadata": {
    "id": "eQfHDqk28jmj"
   },
   "source": [
    "#### 42. Consider two random array A and B, check if they are equal (★★☆) \n",
    "(**hint**: np.allclose, np.array\\_equal)"
   ]
  },
  {
   "cell_type": "code",
   "execution_count": 75,
   "metadata": {
    "colab": {
     "base_uri": "https://localhost:8080/"
    },
    "executionInfo": {
     "elapsed": 331,
     "status": "ok",
     "timestamp": 1646892740863,
     "user": {
      "displayName": "divya",
      "photoUrl": "https://lh3.googleusercontent.com/a-/AOh14GgWNNntWPBxiei1pdGSr7kPoDUATSkukD5xV-g7qDs=s64",
      "userId": "00255106542832566666"
     },
     "user_tz": -480
    },
    "id": "l4U6RpfO8jmj",
    "outputId": "95d078d0-edaa-48d5-9249-15075c0e5dd2"
   },
   "outputs": [
    {
     "data": {
      "text/plain": [
       "False"
      ]
     },
     "execution_count": 75,
     "metadata": {},
     "output_type": "execute_result"
    }
   ],
   "source": [
    "A = np.random.randint(0,1)\n",
    "B = np.random.randint(2,3)\n",
    "equal = np.allclose(A,B)\n",
    "equal"
   ]
  },
  {
   "cell_type": "markdown",
   "metadata": {
    "id": "0KLrtBi68jmk"
   },
   "source": [
    "#### 43. Make an array immutable (read-only) (★★☆) \n",
    "(**hint**: flags.writeable)"
   ]
  },
  {
   "cell_type": "code",
   "execution_count": null,
   "metadata": {
    "id": "KiKUjtvt8jmk"
   },
   "outputs": [],
   "source": [
    "X = np.zeros(10)\n",
    "X.flags.writeable = False\n",
    "X[0] = 1"
   ]
  },
  {
   "cell_type": "markdown",
   "metadata": {
    "id": "rwEXgYR-8jmk"
   },
   "source": [
    "#### 44. Consider a random 10x2 matrix representing cartesian coordinates, convert them to polar coordinates (★★☆) \n",
    "(**hint**: np.sqrt, np.arctan2)"
   ]
  },
  {
   "cell_type": "code",
   "execution_count": 78,
   "metadata": {
    "colab": {
     "base_uri": "https://localhost:8080/"
    },
    "executionInfo": {
     "elapsed": 501,
     "status": "ok",
     "timestamp": 1646892769568,
     "user": {
      "displayName": "divya",
      "photoUrl": "https://lh3.googleusercontent.com/a-/AOh14GgWNNntWPBxiei1pdGSr7kPoDUATSkukD5xV-g7qDs=s64",
      "userId": "00255106542832566666"
     },
     "user_tz": -480
    },
    "id": "XY8mY2RP8jmk",
    "outputId": "cdbb06cc-04b7-4d7a-d629-df5e89dee1a8"
   },
   "outputs": [
    {
     "name": "stdout",
     "output_type": "stream",
     "text": [
      "[0.92338046 0.56563094 0.87708928 0.44670453 0.724204   0.89562587]\n",
      "[1.46989143 0.59466352 0.51905336 0.6452717  0.31197881 0.17339101]\n"
     ]
    }
   ],
   "source": [
    "a = np.random.random((6,2))\n",
    "X,Y = a[:,0], a[:,1]\n",
    "R = np.sqrt(X**2+Y**2)\n",
    "T = np.arctan2(Y,X)\n",
    "print(R)\n",
    "print(T)"
   ]
  },
  {
   "cell_type": "markdown",
   "metadata": {
    "id": "UWH8hQlp8jmk"
   },
   "source": [
    "#### 45. Create random vector of size 10 and replace the maximum value by 0 (★★☆) \n",
    "(**hint**: argmax)"
   ]
  },
  {
   "cell_type": "code",
   "execution_count": 79,
   "metadata": {
    "colab": {
     "base_uri": "https://localhost:8080/"
    },
    "executionInfo": {
     "elapsed": 337,
     "status": "ok",
     "timestamp": 1646892774909,
     "user": {
      "displayName": "divya",
      "photoUrl": "https://lh3.googleusercontent.com/a-/AOh14GgWNNntWPBxiei1pdGSr7kPoDUATSkukD5xV-g7qDs=s64",
      "userId": "00255106542832566666"
     },
     "user_tz": -480
    },
    "id": "_TjpbiM18jml",
    "outputId": "504fb0d7-7019-4f50-a0e5-86046ceac3d6"
   },
   "outputs": [
    {
     "name": "stdout",
     "output_type": "stream",
     "text": [
      "[0.70914559 0.2872781  0.94672305 0.         0.11524305 0.62936505\n",
      " 0.02629312 0.90151907 0.32838719 0.95330433]\n"
     ]
    }
   ],
   "source": [
    "x = np.random.random(10)\n",
    "x[x.argmax()] = 0\n",
    "print(x)"
   ]
  },
  {
   "cell_type": "markdown",
   "metadata": {
    "id": "u6ygMmMD8jml"
   },
   "source": [
    "#### 46. Create a structured array with `x` and `y` coordinates covering the \\[0,1\\]x\\[0,1\\] area (★★☆) \n",
    "(**hint**: np.meshgrid)"
   ]
  },
  {
   "cell_type": "code",
   "execution_count": 80,
   "metadata": {
    "colab": {
     "base_uri": "https://localhost:8080/"
    },
    "executionInfo": {
     "elapsed": 323,
     "status": "ok",
     "timestamp": 1646892778695,
     "user": {
      "displayName": "divya",
      "photoUrl": "https://lh3.googleusercontent.com/a-/AOh14GgWNNntWPBxiei1pdGSr7kPoDUATSkukD5xV-g7qDs=s64",
      "userId": "00255106542832566666"
     },
     "user_tz": -480
    },
    "id": "BhllNYuU8jml",
    "outputId": "4b1d47f4-e533-4e2b-c5df-759416e01274"
   },
   "outputs": [
    {
     "name": "stdout",
     "output_type": "stream",
     "text": [
      "[[(0.        , 0.        ) (0.11111111, 0.        )\n",
      "  (0.22222222, 0.        ) (0.33333333, 0.        )\n",
      "  (0.44444444, 0.        ) (0.55555556, 0.        )\n",
      "  (0.66666667, 0.        ) (0.77777778, 0.        )\n",
      "  (0.88888889, 0.        ) (1.        , 0.        )]\n",
      " [(0.        , 0.11111111) (0.11111111, 0.11111111)\n",
      "  (0.22222222, 0.11111111) (0.33333333, 0.11111111)\n",
      "  (0.44444444, 0.11111111) (0.55555556, 0.11111111)\n",
      "  (0.66666667, 0.11111111) (0.77777778, 0.11111111)\n",
      "  (0.88888889, 0.11111111) (1.        , 0.11111111)]\n",
      " [(0.        , 0.22222222) (0.11111111, 0.22222222)\n",
      "  (0.22222222, 0.22222222) (0.33333333, 0.22222222)\n",
      "  (0.44444444, 0.22222222) (0.55555556, 0.22222222)\n",
      "  (0.66666667, 0.22222222) (0.77777778, 0.22222222)\n",
      "  (0.88888889, 0.22222222) (1.        , 0.22222222)]\n",
      " [(0.        , 0.33333333) (0.11111111, 0.33333333)\n",
      "  (0.22222222, 0.33333333) (0.33333333, 0.33333333)\n",
      "  (0.44444444, 0.33333333) (0.55555556, 0.33333333)\n",
      "  (0.66666667, 0.33333333) (0.77777778, 0.33333333)\n",
      "  (0.88888889, 0.33333333) (1.        , 0.33333333)]\n",
      " [(0.        , 0.44444444) (0.11111111, 0.44444444)\n",
      "  (0.22222222, 0.44444444) (0.33333333, 0.44444444)\n",
      "  (0.44444444, 0.44444444) (0.55555556, 0.44444444)\n",
      "  (0.66666667, 0.44444444) (0.77777778, 0.44444444)\n",
      "  (0.88888889, 0.44444444) (1.        , 0.44444444)]\n",
      " [(0.        , 0.55555556) (0.11111111, 0.55555556)\n",
      "  (0.22222222, 0.55555556) (0.33333333, 0.55555556)\n",
      "  (0.44444444, 0.55555556) (0.55555556, 0.55555556)\n",
      "  (0.66666667, 0.55555556) (0.77777778, 0.55555556)\n",
      "  (0.88888889, 0.55555556) (1.        , 0.55555556)]\n",
      " [(0.        , 0.66666667) (0.11111111, 0.66666667)\n",
      "  (0.22222222, 0.66666667) (0.33333333, 0.66666667)\n",
      "  (0.44444444, 0.66666667) (0.55555556, 0.66666667)\n",
      "  (0.66666667, 0.66666667) (0.77777778, 0.66666667)\n",
      "  (0.88888889, 0.66666667) (1.        , 0.66666667)]\n",
      " [(0.        , 0.77777778) (0.11111111, 0.77777778)\n",
      "  (0.22222222, 0.77777778) (0.33333333, 0.77777778)\n",
      "  (0.44444444, 0.77777778) (0.55555556, 0.77777778)\n",
      "  (0.66666667, 0.77777778) (0.77777778, 0.77777778)\n",
      "  (0.88888889, 0.77777778) (1.        , 0.77777778)]\n",
      " [(0.        , 0.88888889) (0.11111111, 0.88888889)\n",
      "  (0.22222222, 0.88888889) (0.33333333, 0.88888889)\n",
      "  (0.44444444, 0.88888889) (0.55555556, 0.88888889)\n",
      "  (0.66666667, 0.88888889) (0.77777778, 0.88888889)\n",
      "  (0.88888889, 0.88888889) (1.        , 0.88888889)]\n",
      " [(0.        , 1.        ) (0.11111111, 1.        )\n",
      "  (0.22222222, 1.        ) (0.33333333, 1.        )\n",
      "  (0.44444444, 1.        ) (0.55555556, 1.        )\n",
      "  (0.66666667, 1.        ) (0.77777778, 1.        )\n",
      "  (0.88888889, 1.        ) (1.        , 1.        )]]\n"
     ]
    }
   ],
   "source": [
    "z = np.zeros((10,10), [('x',float),('y',float)])\n",
    "z['x'], z['y'] = np.meshgrid(np.linspace(0,1,10),\n",
    "                             np.linspace(0,1,10))\n",
    "print(z)"
   ]
  },
  {
   "cell_type": "markdown",
   "metadata": {
    "id": "xtW_ZaPg8jml"
   },
   "source": [
    "####  47. Given two arrays, X and Y, construct the Cauchy matrix C (Cij =1/(xi - yj)) \n",
    "(**hint**: np.subtract.outer)"
   ]
  },
  {
   "cell_type": "code",
   "execution_count": 81,
   "metadata": {
    "colab": {
     "base_uri": "https://localhost:8080/"
    },
    "executionInfo": {
     "elapsed": 360,
     "status": "ok",
     "timestamp": 1646892782173,
     "user": {
      "displayName": "divya",
      "photoUrl": "https://lh3.googleusercontent.com/a-/AOh14GgWNNntWPBxiei1pdGSr7kPoDUATSkukD5xV-g7qDs=s64",
      "userId": "00255106542832566666"
     },
     "user_tz": -480
    },
    "id": "9unhjIba8jmm",
    "outputId": "3e173aca-dc51-473b-e0e9-3cbbd5e87cc5"
   },
   "outputs": [
    {
     "name": "stdout",
     "output_type": "stream",
     "text": [
      "3638.163637117973\n"
     ]
    }
   ],
   "source": [
    "X = np.arange(8)\n",
    "Y = X + 0.5\n",
    "C = 1.0 / np.subtract.outer(X, Y)\n",
    "print(np.linalg.det(C))"
   ]
  },
  {
   "cell_type": "markdown",
   "metadata": {
    "id": "b2Cb87NP8jmm"
   },
   "source": [
    "#### 48. Print the minimum and maximum representable value for each numpy scalar type (★★☆) \n",
    "(**hint**: np.iinfo, np.finfo, eps)"
   ]
  },
  {
   "cell_type": "code",
   "execution_count": 82,
   "metadata": {
    "colab": {
     "base_uri": "https://localhost:8080/"
    },
    "executionInfo": {
     "elapsed": 322,
     "status": "ok",
     "timestamp": 1646892785432,
     "user": {
      "displayName": "divya",
      "photoUrl": "https://lh3.googleusercontent.com/a-/AOh14GgWNNntWPBxiei1pdGSr7kPoDUATSkukD5xV-g7qDs=s64",
      "userId": "00255106542832566666"
     },
     "user_tz": -480
    },
    "id": "nNo1gd3C8jmm",
    "outputId": "c8a08896-8837-4d16-f434-25ec7945d7fc"
   },
   "outputs": [
    {
     "name": "stdout",
     "output_type": "stream",
     "text": [
      "-128\n",
      "127\n",
      "-2147483648\n",
      "2147483647\n",
      "-9223372036854775808\n",
      "9223372036854775807\n",
      "-3.4028235e+38\n",
      "3.4028235e+38\n",
      "1.1920929e-07\n",
      "-1.7976931348623157e+308\n",
      "1.7976931348623157e+308\n",
      "2.220446049250313e-16\n"
     ]
    }
   ],
   "source": [
    "for dtype in [np.int8, np.int32, np.int64]:\n",
    "   print(np.iinfo(dtype).min)\n",
    "   print(np.iinfo(dtype).max)\n",
    "for dtype in [np.float32, np.float64]:\n",
    "   print(np.finfo(dtype).min)\n",
    "   print(np.finfo(dtype).max)\n",
    "   print(np.finfo(dtype).eps)"
   ]
  },
  {
   "cell_type": "markdown",
   "metadata": {
    "id": "ZBROkhIl8jmm"
   },
   "source": [
    "#### 49. How to print all the values of an array? (★★☆) \n",
    "(**hint**: np.set\\_printoptions)"
   ]
  },
  {
   "cell_type": "code",
   "execution_count": 83,
   "metadata": {
    "colab": {
     "base_uri": "https://localhost:8080/"
    },
    "executionInfo": {
     "elapsed": 341,
     "status": "ok",
     "timestamp": 1646892791218,
     "user": {
      "displayName": "divya",
      "photoUrl": "https://lh3.googleusercontent.com/a-/AOh14GgWNNntWPBxiei1pdGSr7kPoDUATSkukD5xV-g7qDs=s64",
      "userId": "00255106542832566666"
     },
     "user_tz": -480
    },
    "id": "WdqGL9y88jmm",
    "outputId": "4c408cc0-bcb7-4274-d36e-e1d41a6ac4f0"
   },
   "outputs": [
    {
     "name": "stdout",
     "output_type": "stream",
     "text": [
      "[[0. 0. 0. 0. 0. 0. 0. 0. 0. 0. 0. 0. 0. 0. 0. 0. 0. 0. 0. 0. 0. 0. 0. 0.\n",
      "  0. 0. 0. 0. 0. 0. 0. 0. 0. 0. 0. 0. 0. 0. 0. 0.]\n",
      " [0. 0. 0. 0. 0. 0. 0. 0. 0. 0. 0. 0. 0. 0. 0. 0. 0. 0. 0. 0. 0. 0. 0. 0.\n",
      "  0. 0. 0. 0. 0. 0. 0. 0. 0. 0. 0. 0. 0. 0. 0. 0.]\n",
      " [0. 0. 0. 0. 0. 0. 0. 0. 0. 0. 0. 0. 0. 0. 0. 0. 0. 0. 0. 0. 0. 0. 0. 0.\n",
      "  0. 0. 0. 0. 0. 0. 0. 0. 0. 0. 0. 0. 0. 0. 0. 0.]\n",
      " [0. 0. 0. 0. 0. 0. 0. 0. 0. 0. 0. 0. 0. 0. 0. 0. 0. 0. 0. 0. 0. 0. 0. 0.\n",
      "  0. 0. 0. 0. 0. 0. 0. 0. 0. 0. 0. 0. 0. 0. 0. 0.]\n",
      " [0. 0. 0. 0. 0. 0. 0. 0. 0. 0. 0. 0. 0. 0. 0. 0. 0. 0. 0. 0. 0. 0. 0. 0.\n",
      "  0. 0. 0. 0. 0. 0. 0. 0. 0. 0. 0. 0. 0. 0. 0. 0.]\n",
      " [0. 0. 0. 0. 0. 0. 0. 0. 0. 0. 0. 0. 0. 0. 0. 0. 0. 0. 0. 0. 0. 0. 0. 0.\n",
      "  0. 0. 0. 0. 0. 0. 0. 0. 0. 0. 0. 0. 0. 0. 0. 0.]\n",
      " [0. 0. 0. 0. 0. 0. 0. 0. 0. 0. 0. 0. 0. 0. 0. 0. 0. 0. 0. 0. 0. 0. 0. 0.\n",
      "  0. 0. 0. 0. 0. 0. 0. 0. 0. 0. 0. 0. 0. 0. 0. 0.]\n",
      " [0. 0. 0. 0. 0. 0. 0. 0. 0. 0. 0. 0. 0. 0. 0. 0. 0. 0. 0. 0. 0. 0. 0. 0.\n",
      "  0. 0. 0. 0. 0. 0. 0. 0. 0. 0. 0. 0. 0. 0. 0. 0.]\n",
      " [0. 0. 0. 0. 0. 0. 0. 0. 0. 0. 0. 0. 0. 0. 0. 0. 0. 0. 0. 0. 0. 0. 0. 0.\n",
      "  0. 0. 0. 0. 0. 0. 0. 0. 0. 0. 0. 0. 0. 0. 0. 0.]\n",
      " [0. 0. 0. 0. 0. 0. 0. 0. 0. 0. 0. 0. 0. 0. 0. 0. 0. 0. 0. 0. 0. 0. 0. 0.\n",
      "  0. 0. 0. 0. 0. 0. 0. 0. 0. 0. 0. 0. 0. 0. 0. 0.]\n",
      " [0. 0. 0. 0. 0. 0. 0. 0. 0. 0. 0. 0. 0. 0. 0. 0. 0. 0. 0. 0. 0. 0. 0. 0.\n",
      "  0. 0. 0. 0. 0. 0. 0. 0. 0. 0. 0. 0. 0. 0. 0. 0.]\n",
      " [0. 0. 0. 0. 0. 0. 0. 0. 0. 0. 0. 0. 0. 0. 0. 0. 0. 0. 0. 0. 0. 0. 0. 0.\n",
      "  0. 0. 0. 0. 0. 0. 0. 0. 0. 0. 0. 0. 0. 0. 0. 0.]\n",
      " [0. 0. 0. 0. 0. 0. 0. 0. 0. 0. 0. 0. 0. 0. 0. 0. 0. 0. 0. 0. 0. 0. 0. 0.\n",
      "  0. 0. 0. 0. 0. 0. 0. 0. 0. 0. 0. 0. 0. 0. 0. 0.]\n",
      " [0. 0. 0. 0. 0. 0. 0. 0. 0. 0. 0. 0. 0. 0. 0. 0. 0. 0. 0. 0. 0. 0. 0. 0.\n",
      "  0. 0. 0. 0. 0. 0. 0. 0. 0. 0. 0. 0. 0. 0. 0. 0.]\n",
      " [0. 0. 0. 0. 0. 0. 0. 0. 0. 0. 0. 0. 0. 0. 0. 0. 0. 0. 0. 0. 0. 0. 0. 0.\n",
      "  0. 0. 0. 0. 0. 0. 0. 0. 0. 0. 0. 0. 0. 0. 0. 0.]\n",
      " [0. 0. 0. 0. 0. 0. 0. 0. 0. 0. 0. 0. 0. 0. 0. 0. 0. 0. 0. 0. 0. 0. 0. 0.\n",
      "  0. 0. 0. 0. 0. 0. 0. 0. 0. 0. 0. 0. 0. 0. 0. 0.]\n",
      " [0. 0. 0. 0. 0. 0. 0. 0. 0. 0. 0. 0. 0. 0. 0. 0. 0. 0. 0. 0. 0. 0. 0. 0.\n",
      "  0. 0. 0. 0. 0. 0. 0. 0. 0. 0. 0. 0. 0. 0. 0. 0.]\n",
      " [0. 0. 0. 0. 0. 0. 0. 0. 0. 0. 0. 0. 0. 0. 0. 0. 0. 0. 0. 0. 0. 0. 0. 0.\n",
      "  0. 0. 0. 0. 0. 0. 0. 0. 0. 0. 0. 0. 0. 0. 0. 0.]\n",
      " [0. 0. 0. 0. 0. 0. 0. 0. 0. 0. 0. 0. 0. 0. 0. 0. 0. 0. 0. 0. 0. 0. 0. 0.\n",
      "  0. 0. 0. 0. 0. 0. 0. 0. 0. 0. 0. 0. 0. 0. 0. 0.]\n",
      " [0. 0. 0. 0. 0. 0. 0. 0. 0. 0. 0. 0. 0. 0. 0. 0. 0. 0. 0. 0. 0. 0. 0. 0.\n",
      "  0. 0. 0. 0. 0. 0. 0. 0. 0. 0. 0. 0. 0. 0. 0. 0.]\n",
      " [0. 0. 0. 0. 0. 0. 0. 0. 0. 0. 0. 0. 0. 0. 0. 0. 0. 0. 0. 0. 0. 0. 0. 0.\n",
      "  0. 0. 0. 0. 0. 0. 0. 0. 0. 0. 0. 0. 0. 0. 0. 0.]\n",
      " [0. 0. 0. 0. 0. 0. 0. 0. 0. 0. 0. 0. 0. 0. 0. 0. 0. 0. 0. 0. 0. 0. 0. 0.\n",
      "  0. 0. 0. 0. 0. 0. 0. 0. 0. 0. 0. 0. 0. 0. 0. 0.]\n",
      " [0. 0. 0. 0. 0. 0. 0. 0. 0. 0. 0. 0. 0. 0. 0. 0. 0. 0. 0. 0. 0. 0. 0. 0.\n",
      "  0. 0. 0. 0. 0. 0. 0. 0. 0. 0. 0. 0. 0. 0. 0. 0.]\n",
      " [0. 0. 0. 0. 0. 0. 0. 0. 0. 0. 0. 0. 0. 0. 0. 0. 0. 0. 0. 0. 0. 0. 0. 0.\n",
      "  0. 0. 0. 0. 0. 0. 0. 0. 0. 0. 0. 0. 0. 0. 0. 0.]\n",
      " [0. 0. 0. 0. 0. 0. 0. 0. 0. 0. 0. 0. 0. 0. 0. 0. 0. 0. 0. 0. 0. 0. 0. 0.\n",
      "  0. 0. 0. 0. 0. 0. 0. 0. 0. 0. 0. 0. 0. 0. 0. 0.]\n",
      " [0. 0. 0. 0. 0. 0. 0. 0. 0. 0. 0. 0. 0. 0. 0. 0. 0. 0. 0. 0. 0. 0. 0. 0.\n",
      "  0. 0. 0. 0. 0. 0. 0. 0. 0. 0. 0. 0. 0. 0. 0. 0.]\n",
      " [0. 0. 0. 0. 0. 0. 0. 0. 0. 0. 0. 0. 0. 0. 0. 0. 0. 0. 0. 0. 0. 0. 0. 0.\n",
      "  0. 0. 0. 0. 0. 0. 0. 0. 0. 0. 0. 0. 0. 0. 0. 0.]\n",
      " [0. 0. 0. 0. 0. 0. 0. 0. 0. 0. 0. 0. 0. 0. 0. 0. 0. 0. 0. 0. 0. 0. 0. 0.\n",
      "  0. 0. 0. 0. 0. 0. 0. 0. 0. 0. 0. 0. 0. 0. 0. 0.]\n",
      " [0. 0. 0. 0. 0. 0. 0. 0. 0. 0. 0. 0. 0. 0. 0. 0. 0. 0. 0. 0. 0. 0. 0. 0.\n",
      "  0. 0. 0. 0. 0. 0. 0. 0. 0. 0. 0. 0. 0. 0. 0. 0.]\n",
      " [0. 0. 0. 0. 0. 0. 0. 0. 0. 0. 0. 0. 0. 0. 0. 0. 0. 0. 0. 0. 0. 0. 0. 0.\n",
      "  0. 0. 0. 0. 0. 0. 0. 0. 0. 0. 0. 0. 0. 0. 0. 0.]\n",
      " [0. 0. 0. 0. 0. 0. 0. 0. 0. 0. 0. 0. 0. 0. 0. 0. 0. 0. 0. 0. 0. 0. 0. 0.\n",
      "  0. 0. 0. 0. 0. 0. 0. 0. 0. 0. 0. 0. 0. 0. 0. 0.]\n",
      " [0. 0. 0. 0. 0. 0. 0. 0. 0. 0. 0. 0. 0. 0. 0. 0. 0. 0. 0. 0. 0. 0. 0. 0.\n",
      "  0. 0. 0. 0. 0. 0. 0. 0. 0. 0. 0. 0. 0. 0. 0. 0.]\n",
      " [0. 0. 0. 0. 0. 0. 0. 0. 0. 0. 0. 0. 0. 0. 0. 0. 0. 0. 0. 0. 0. 0. 0. 0.\n",
      "  0. 0. 0. 0. 0. 0. 0. 0. 0. 0. 0. 0. 0. 0. 0. 0.]\n",
      " [0. 0. 0. 0. 0. 0. 0. 0. 0. 0. 0. 0. 0. 0. 0. 0. 0. 0. 0. 0. 0. 0. 0. 0.\n",
      "  0. 0. 0. 0. 0. 0. 0. 0. 0. 0. 0. 0. 0. 0. 0. 0.]\n",
      " [0. 0. 0. 0. 0. 0. 0. 0. 0. 0. 0. 0. 0. 0. 0. 0. 0. 0. 0. 0. 0. 0. 0. 0.\n",
      "  0. 0. 0. 0. 0. 0. 0. 0. 0. 0. 0. 0. 0. 0. 0. 0.]\n",
      " [0. 0. 0. 0. 0. 0. 0. 0. 0. 0. 0. 0. 0. 0. 0. 0. 0. 0. 0. 0. 0. 0. 0. 0.\n",
      "  0. 0. 0. 0. 0. 0. 0. 0. 0. 0. 0. 0. 0. 0. 0. 0.]\n",
      " [0. 0. 0. 0. 0. 0. 0. 0. 0. 0. 0. 0. 0. 0. 0. 0. 0. 0. 0. 0. 0. 0. 0. 0.\n",
      "  0. 0. 0. 0. 0. 0. 0. 0. 0. 0. 0. 0. 0. 0. 0. 0.]\n",
      " [0. 0. 0. 0. 0. 0. 0. 0. 0. 0. 0. 0. 0. 0. 0. 0. 0. 0. 0. 0. 0. 0. 0. 0.\n",
      "  0. 0. 0. 0. 0. 0. 0. 0. 0. 0. 0. 0. 0. 0. 0. 0.]\n",
      " [0. 0. 0. 0. 0. 0. 0. 0. 0. 0. 0. 0. 0. 0. 0. 0. 0. 0. 0. 0. 0. 0. 0. 0.\n",
      "  0. 0. 0. 0. 0. 0. 0. 0. 0. 0. 0. 0. 0. 0. 0. 0.]\n",
      " [0. 0. 0. 0. 0. 0. 0. 0. 0. 0. 0. 0. 0. 0. 0. 0. 0. 0. 0. 0. 0. 0. 0. 0.\n",
      "  0. 0. 0. 0. 0. 0. 0. 0. 0. 0. 0. 0. 0. 0. 0. 0.]]\n"
     ]
    }
   ],
   "source": [
    "np.set_printoptions(threshold=float(\"inf\"))\n",
    "x = np.zeros((40,40))\n",
    "print(x)"
   ]
  },
  {
   "cell_type": "markdown",
   "metadata": {
    "id": "48FeOnxC8jmn"
   },
   "source": [
    "#### 50. How to find the closest value (to a given scalar) in a vector? (★★☆) \n",
    "(**hint**: argmin)"
   ]
  },
  {
   "cell_type": "code",
   "execution_count": 84,
   "metadata": {
    "colab": {
     "base_uri": "https://localhost:8080/"
    },
    "executionInfo": {
     "elapsed": 356,
     "status": "ok",
     "timestamp": 1646892795329,
     "user": {
      "displayName": "divya",
      "photoUrl": "https://lh3.googleusercontent.com/a-/AOh14GgWNNntWPBxiei1pdGSr7kPoDUATSkukD5xV-g7qDs=s64",
      "userId": "00255106542832566666"
     },
     "user_tz": -480
    },
    "id": "qemGR-Mj8jmn",
    "outputId": "e02e4065-0e47-46f5-8653-aaf78c28b87b"
   },
   "outputs": [
    {
     "data": {
      "text/plain": [
       "7"
      ]
     },
     "execution_count": 84,
     "metadata": {},
     "output_type": "execute_result"
    }
   ],
   "source": [
    "x = np.arange(10)\n",
    "i = np.random.uniform(0,10)\n",
    "index = (np.abs(x-i)).argmin()\n",
    "x[index]"
   ]
  },
  {
   "cell_type": "markdown",
   "metadata": {
    "id": "Zg3TR_D38jmn"
   },
   "source": [
    "#### 51. Create a structured array representing a position (x,y) and a color (r,g,b) (★★☆) \n",
    "(**hint**: dtype)"
   ]
  },
  {
   "cell_type": "code",
   "execution_count": 85,
   "metadata": {
    "colab": {
     "base_uri": "https://localhost:8080/"
    },
    "executionInfo": {
     "elapsed": 327,
     "status": "ok",
     "timestamp": 1646892817265,
     "user": {
      "displayName": "divya",
      "photoUrl": "https://lh3.googleusercontent.com/a-/AOh14GgWNNntWPBxiei1pdGSr7kPoDUATSkukD5xV-g7qDs=s64",
      "userId": "00255106542832566666"
     },
     "user_tz": -480
    },
    "id": "0OTPl-eJ8jmn",
    "outputId": "d3171385-7ee1-4640-df39-9f8291096240"
   },
   "outputs": [
    {
     "name": "stdout",
     "output_type": "stream",
     "text": [
      "[((0., 0.), (0., 0., 0.)) ((0., 0.), (0., 0., 0.))\n",
      " ((0., 0.), (0., 0., 0.)) ((0., 0.), (0., 0., 0.))\n",
      " ((0., 0.), (0., 0., 0.)) ((0., 0.), (0., 0., 0.))\n",
      " ((0., 0.), (0., 0., 0.)) ((0., 0.), (0., 0., 0.))\n",
      " ((0., 0.), (0., 0., 0.)) ((0., 0.), (0., 0., 0.))]\n"
     ]
    },
    {
     "name": "stderr",
     "output_type": "stream",
     "text": [
      "/usr/local/lib/python3.7/dist-packages/ipykernel_launcher.py:5: FutureWarning: Passing (type, 1) or '1type' as a synonym of type is deprecated; in a future version of numpy, it will be understood as (type, (1,)) / '(1,)type'.\n",
      "  \"\"\"\n"
     ]
    }
   ],
   "source": [
    "a = np.zeros(10, [ ('position', [ ('x', float, 1),\n",
    "                                   ('y', float, 1)]),\n",
    "                    ('color',    [ ('r', float, 1),\n",
    "                                   ('g', float, 1),\n",
    "                                   ('b', float, 1)])])\n",
    "print(a)"
   ]
  },
  {
   "cell_type": "markdown",
   "metadata": {
    "id": "BqhDyZ2A8jmo"
   },
   "source": [
    "#### 52. Consider a random vector with shape (100,2) representing coordinates, find point by point distances (★★☆) \n",
    "(**hint**: np.atleast\\_2d, T, np.sqrt)"
   ]
  },
  {
   "cell_type": "code",
   "execution_count": 86,
   "metadata": {
    "colab": {
     "base_uri": "https://localhost:8080/"
    },
    "executionInfo": {
     "elapsed": 6,
     "status": "ok",
     "timestamp": 1646892821814,
     "user": {
      "displayName": "divya",
      "photoUrl": "https://lh3.googleusercontent.com/a-/AOh14GgWNNntWPBxiei1pdGSr7kPoDUATSkukD5xV-g7qDs=s64",
      "userId": "00255106542832566666"
     },
     "user_tz": -480
    },
    "id": "eDrMBylP8jmo",
    "outputId": "28c9c4b9-4f3b-4ee8-c336-c8dcef2cb2f9"
   },
   "outputs": [
    {
     "name": "stdout",
     "output_type": "stream",
     "text": [
      "[[0.         0.26967071 0.52786135 0.91052307 0.95936131 0.078288\n",
      "  0.55804231 0.60060997 0.62228573 0.05306603]\n",
      " [0.26967071 0.         0.64327637 0.86553263 0.77689051 0.32571778\n",
      "  0.59363588 0.33244868 0.62283996 0.22281374]\n",
      " [0.52786135 0.64327637 0.         0.53086007 0.84607761 0.45984707\n",
      "  0.17911658 0.85405616 0.26603697 0.51892142]\n",
      " [0.91052307 0.86553263 0.53086007 0.         0.49768667 0.87191369\n",
      "  0.38295655 0.8770558  0.2978447  0.87496228]\n",
      " [0.95936131 0.77689051 0.84607761 0.49768667 0.         0.96120662\n",
      "  0.66781432 0.59717406 0.58916643 0.90845311]\n",
      " [0.078288   0.32571778 0.45984707 0.87191369 0.96120662 0.\n",
      "  0.5070452  0.64938364 0.57805589 0.1053059 ]\n",
      " [0.55804231 0.59363588 0.17911658 0.38295655 0.66781432 0.5070452\n",
      "  0.         0.74116166 0.09152693 0.53243061]\n",
      " [0.60060997 0.33244868 0.85405616 0.8770558  0.59717406 0.64938364\n",
      "  0.74116166 0.         0.728476   0.55129413]\n",
      " [0.62228573 0.62283996 0.26603697 0.2978447  0.58916643 0.57805589\n",
      "  0.09152693 0.728476   0.         0.59139309]\n",
      " [0.05306603 0.22281374 0.51892142 0.87496228 0.90845311 0.1053059\n",
      "  0.53243061 0.55129413 0.59139309 0.        ]]\n"
     ]
    }
   ],
   "source": [
    "x = np.random.random((10,2))\n",
    "X,Y = np.atleast_2d(x[:,0]), np.atleast_2d(x[:,1])\n",
    "D = np.sqrt( (X-X.T)**2 + (Y-Y.T)**2)\n",
    "print(D)\n"
   ]
  },
  {
   "cell_type": "markdown",
   "metadata": {
    "id": "zQvh8xOw8jmo"
   },
   "source": [
    "#### 53. How to convert a float (32 bits) array into an integer (32 bits) in place? \n",
    "(**hint**: astype(copy=False))"
   ]
  },
  {
   "cell_type": "code",
   "execution_count": 87,
   "metadata": {
    "colab": {
     "base_uri": "https://localhost:8080/"
    },
    "executionInfo": {
     "elapsed": 311,
     "status": "ok",
     "timestamp": 1646892825158,
     "user": {
      "displayName": "divya",
      "photoUrl": "https://lh3.googleusercontent.com/a-/AOh14GgWNNntWPBxiei1pdGSr7kPoDUATSkukD5xV-g7qDs=s64",
      "userId": "00255106542832566666"
     },
     "user_tz": -480
    },
    "id": "xnLW7X2d8jmo",
    "outputId": "c840e3e4-7f91-4f10-a889-1df88f0a6430"
   },
   "outputs": [
    {
     "name": "stdout",
     "output_type": "stream",
     "text": [
      "[0. 1. 2. 3. 4. 5. 6. 7. 8. 9.]\n",
      "[0 1 2 3 4 5 6 7 8 9]\n"
     ]
    }
   ],
   "source": [
    "x = np.arange(10, dtype=np.float32)\n",
    "print(x)\n",
    "x = x.astype(np.int32, copy=False)\n",
    "print(x)"
   ]
  },
  {
   "cell_type": "markdown",
   "metadata": {
    "id": "KFZjsgUj8jmp"
   },
   "source": [
    "#### 54. How to read the following file? (★★☆) \n",
    "(**hint**: np.genfromtxt)"
   ]
  },
  {
   "cell_type": "markdown",
   "metadata": {
    "id": "vMI8zY4M8jmp"
   },
   "source": [
    "```\n",
    "1, 2, 3, 4, 5\n",
    "6,  ,  , 7, 8\n",
    " ,  , 9,10,11\n",
    "```"
   ]
  },
  {
   "cell_type": "code",
   "execution_count": 88,
   "metadata": {
    "colab": {
     "base_uri": "https://localhost:8080/",
     "height": 130
    },
    "executionInfo": {
     "elapsed": 321,
     "status": "error",
     "timestamp": 1646892834685,
     "user": {
      "displayName": "divya",
      "photoUrl": "https://lh3.googleusercontent.com/a-/AOh14GgWNNntWPBxiei1pdGSr7kPoDUATSkukD5xV-g7qDs=s64",
      "userId": "00255106542832566666"
     },
     "user_tz": -480
    },
    "id": "5zOJfPCYB5t1",
    "outputId": "e95f45cd-edb0-4431-b0c1-627d90c4a14e"
   },
   "outputs": [
    {
     "ename": "SyntaxError",
     "evalue": "ignored",
     "output_type": "error",
     "traceback": [
      "\u001b[0;36m  File \u001b[0;32m\"<ipython-input-88-80e7ae1071db>\"\u001b[0;36m, line \u001b[0;32m3\u001b[0m\n\u001b[0;31m    6, ,  ,7, 8\u001b[0m\n\u001b[0m    ^\u001b[0m\n\u001b[0;31mSyntaxError\u001b[0m\u001b[0;31m:\u001b[0m invalid syntax\n"
     ]
    }
   ],
   "source": [
    "from io import StringIO\n",
    "s = StringIO(  1, 2, 3,4,5\n",
    "            6,  ,  ,7, 8\n",
    "            , , 9,10,11)"
   ]
  },
  {
   "cell_type": "code",
   "execution_count": 89,
   "metadata": {
    "colab": {
     "base_uri": "https://localhost:8080/"
    },
    "executionInfo": {
     "elapsed": 337,
     "status": "ok",
     "timestamp": 1646892857450,
     "user": {
      "displayName": "divya",
      "photoUrl": "https://lh3.googleusercontent.com/a-/AOh14GgWNNntWPBxiei1pdGSr7kPoDUATSkukD5xV-g7qDs=s64",
      "userId": "00255106542832566666"
     },
     "user_tz": -480
    },
    "id": "hb06V9Sh8jmp",
    "outputId": "a4bae5fa-0c0e-4959-d35c-bf1370472d7e"
   },
   "outputs": [
    {
     "name": "stdout",
     "output_type": "stream",
     "text": [
      "[[ 1  2  3  4  5]\n",
      " [ 6 -1 -1  7  8]\n",
      " [-1 -1  9 10 11]]\n"
     ]
    },
    {
     "name": "stderr",
     "output_type": "stream",
     "text": [
      "/usr/local/lib/python3.7/dist-packages/ipykernel_launcher.py:5: DeprecationWarning: `np.int` is a deprecated alias for the builtin `int`. To silence this warning, use `int` by itself. Doing this will not modify any behavior and is safe. When replacing `np.int`, you may wish to use e.g. `np.int64` or `np.int32` to specify the precision. If you wish to review your current use, check the release note link for additional information.\n",
      "Deprecated in NumPy 1.20; for more details and guidance: https://numpy.org/devdocs/release/1.20.0-notes.html#deprecations\n",
      "  \"\"\"\n"
     ]
    }
   ],
   "source": [
    "from io import StringIO\n",
    "s = StringIO('''1, 2, 3, 4, 5\n",
    "                6,  ,  , 7, 8\n",
    "                 ,  , 9,10,11''')\n",
    "Z = np.genfromtxt(s, delimiter=\",\", dtype = np.int)\n",
    "print(Z)"
   ]
  },
  {
   "cell_type": "markdown",
   "metadata": {
    "id": "2R8qYm4O8jmp"
   },
   "source": [
    "#### 55. What is the equivalent of enumerate for numpy arrays? (★★☆) \n",
    "(**hint**: np.ndenumerate, np.ndindex)"
   ]
  },
  {
   "cell_type": "code",
   "execution_count": 90,
   "metadata": {
    "colab": {
     "base_uri": "https://localhost:8080/"
    },
    "executionInfo": {
     "elapsed": 323,
     "status": "ok",
     "timestamp": 1646892895469,
     "user": {
      "displayName": "divya",
      "photoUrl": "https://lh3.googleusercontent.com/a-/AOh14GgWNNntWPBxiei1pdGSr7kPoDUATSkukD5xV-g7qDs=s64",
      "userId": "00255106542832566666"
     },
     "user_tz": -480
    },
    "id": "3ZETy3W18jmq",
    "outputId": "9346d64d-c004-4b5c-b502-de201f8de663"
   },
   "outputs": [
    {
     "name": "stdout",
     "output_type": "stream",
     "text": [
      "(0,) ((0., 0.), (0., 0., 0.))\n",
      "(1,) ((0., 0.), (0., 0., 0.))\n",
      "(2,) ((0., 0.), (0., 0., 0.))\n",
      "(3,) ((0., 0.), (0., 0., 0.))\n",
      "(4,) ((0., 0.), (0., 0., 0.))\n",
      "(5,) ((0., 0.), (0., 0., 0.))\n",
      "(6,) ((0., 0.), (0., 0., 0.))\n",
      "(7,) ((0., 0.), (0., 0., 0.))\n",
      "(8,) ((0., 0.), (0., 0., 0.))\n",
      "(9,) ((0., 0.), (0., 0., 0.))\n",
      "(0,) ((0., 0.), (0., 0., 0.))\n",
      "(1,) ((0., 0.), (0., 0., 0.))\n",
      "(2,) ((0., 0.), (0., 0., 0.))\n",
      "(3,) ((0., 0.), (0., 0., 0.))\n",
      "(4,) ((0., 0.), (0., 0., 0.))\n",
      "(5,) ((0., 0.), (0., 0., 0.))\n",
      "(6,) ((0., 0.), (0., 0., 0.))\n",
      "(7,) ((0., 0.), (0., 0., 0.))\n",
      "(8,) ((0., 0.), (0., 0., 0.))\n",
      "(9,) ((0., 0.), (0., 0., 0.))\n"
     ]
    }
   ],
   "source": [
    "x = np.arange(9).reshape(3,3)\n",
    "for index, value in np.ndenumerate(a):\n",
    "    print(index, value)\n",
    "for index in np.ndindex(a.shape):\n",
    "    print(index, a[index])"
   ]
  },
  {
   "cell_type": "markdown",
   "metadata": {
    "id": "UcNx6Zui8jmq"
   },
   "source": [
    "#### 56. Generate a generic 2D Gaussian-like array (★★☆) \n",
    "(**hint**: np.meshgrid, np.exp)"
   ]
  },
  {
   "cell_type": "code",
   "execution_count": 91,
   "metadata": {
    "colab": {
     "base_uri": "https://localhost:8080/"
    },
    "executionInfo": {
     "elapsed": 337,
     "status": "ok",
     "timestamp": 1646892900790,
     "user": {
      "displayName": "divya",
      "photoUrl": "https://lh3.googleusercontent.com/a-/AOh14GgWNNntWPBxiei1pdGSr7kPoDUATSkukD5xV-g7qDs=s64",
      "userId": "00255106542832566666"
     },
     "user_tz": -480
    },
    "id": "cHvtdGmr8jmq",
    "outputId": "60e36138-0cc9-499e-e395-d189330fb447"
   },
   "outputs": [
    {
     "name": "stdout",
     "output_type": "stream",
     "text": [
      "[[0.36787944 0.44822088 0.51979489 0.57375342 0.60279818 0.60279818\n",
      "  0.57375342 0.51979489 0.44822088 0.36787944]\n",
      " [0.44822088 0.54610814 0.63331324 0.69905581 0.73444367 0.73444367\n",
      "  0.69905581 0.63331324 0.54610814 0.44822088]\n",
      " [0.51979489 0.63331324 0.73444367 0.81068432 0.85172308 0.85172308\n",
      "  0.81068432 0.73444367 0.63331324 0.51979489]\n",
      " [0.57375342 0.69905581 0.81068432 0.89483932 0.9401382  0.9401382\n",
      "  0.89483932 0.81068432 0.69905581 0.57375342]\n",
      " [0.60279818 0.73444367 0.85172308 0.9401382  0.98773022 0.98773022\n",
      "  0.9401382  0.85172308 0.73444367 0.60279818]\n",
      " [0.60279818 0.73444367 0.85172308 0.9401382  0.98773022 0.98773022\n",
      "  0.9401382  0.85172308 0.73444367 0.60279818]\n",
      " [0.57375342 0.69905581 0.81068432 0.89483932 0.9401382  0.9401382\n",
      "  0.89483932 0.81068432 0.69905581 0.57375342]\n",
      " [0.51979489 0.63331324 0.73444367 0.81068432 0.85172308 0.85172308\n",
      "  0.81068432 0.73444367 0.63331324 0.51979489]\n",
      " [0.44822088 0.54610814 0.63331324 0.69905581 0.73444367 0.73444367\n",
      "  0.69905581 0.63331324 0.54610814 0.44822088]\n",
      " [0.36787944 0.44822088 0.51979489 0.57375342 0.60279818 0.60279818\n",
      "  0.57375342 0.51979489 0.44822088 0.36787944]]\n"
     ]
    }
   ],
   "source": [
    "X, Y = np.meshgrid(np.linspace(-1,1,10), np.linspace(-1,1,10))\n",
    "D = np.sqrt(X*X+Y*Y)\n",
    "sigma, mu = 1.0, 0.0\n",
    "G = np.exp(-( (D-mu)**2 / ( 2.0 * sigma**2 ) ) )\n",
    "print(G)"
   ]
  },
  {
   "cell_type": "markdown",
   "metadata": {
    "id": "35fLnix38jmq"
   },
   "source": [
    "#### 57. How to randomly place p elements in a 2D array? (★★☆) \n",
    "(**hint**: np.put, np.random.choice)"
   ]
  },
  {
   "cell_type": "code",
   "execution_count": 92,
   "metadata": {
    "colab": {
     "base_uri": "https://localhost:8080/"
    },
    "executionInfo": {
     "elapsed": 339,
     "status": "ok",
     "timestamp": 1646892903902,
     "user": {
      "displayName": "divya",
      "photoUrl": "https://lh3.googleusercontent.com/a-/AOh14GgWNNntWPBxiei1pdGSr7kPoDUATSkukD5xV-g7qDs=s64",
      "userId": "00255106542832566666"
     },
     "user_tz": -480
    },
    "id": "7lqoXi9g8jmr",
    "outputId": "490c4cbf-66d2-4d17-9815-c0fefff89620"
   },
   "outputs": [
    {
     "name": "stdout",
     "output_type": "stream",
     "text": [
      "[[0. 0. 0. 0.]\n",
      " [0. 1. 0. 0.]\n",
      " [0. 0. 0. 1.]\n",
      " [0. 1. 0. 0.]]\n"
     ]
    }
   ],
   "source": [
    "n = 4\n",
    "p = 3\n",
    "x = np.zeros((n,n))\n",
    "np.put(x, np.random.choice(range(n*n), p, replace=False),1)\n",
    "print(x)"
   ]
  },
  {
   "cell_type": "markdown",
   "metadata": {
    "id": "dWX0HlRS8jmr"
   },
   "source": [
    "#### 58. Subtract the mean of each row of a matrix (★★☆) \n",
    "(**hint**: mean(axis=,keepdims=))"
   ]
  },
  {
   "cell_type": "code",
   "execution_count": 93,
   "metadata": {
    "colab": {
     "base_uri": "https://localhost:8080/"
    },
    "executionInfo": {
     "elapsed": 320,
     "status": "ok",
     "timestamp": 1646892906389,
     "user": {
      "displayName": "divya",
      "photoUrl": "https://lh3.googleusercontent.com/a-/AOh14GgWNNntWPBxiei1pdGSr7kPoDUATSkukD5xV-g7qDs=s64",
      "userId": "00255106542832566666"
     },
     "user_tz": -480
    },
    "id": "xpZfyhzl8jms",
    "outputId": "1aa3b86f-2da4-489e-9cfe-c2a68b4f63c4"
   },
   "outputs": [
    {
     "name": "stdout",
     "output_type": "stream",
     "text": [
      "[[ 0.34359958 -0.55132019  0.28459095 -0.11945371 -0.20261318  0.15864443\n",
      "  -0.22152293  0.30807506]\n",
      " [ 0.16086666 -0.05489463 -0.2462961   0.24820725  0.24745657  0.20431782\n",
      "  -0.37417836 -0.18547922]]\n"
     ]
    }
   ],
   "source": [
    "X = np.random.rand(2, 8)\n",
    "\n",
    "\n",
    "Y = X - X.mean(axis=1, keepdims=True)\n",
    "print(Y)\n"
   ]
  },
  {
   "cell_type": "markdown",
   "metadata": {
    "id": "ZN7KPldD8jms"
   },
   "source": [
    "#### 59. How to sort an array by the nth column? (★★☆) \n",
    "(**hint**: argsort)"
   ]
  },
  {
   "cell_type": "code",
   "execution_count": 94,
   "metadata": {
    "colab": {
     "base_uri": "https://localhost:8080/"
    },
    "executionInfo": {
     "elapsed": 316,
     "status": "ok",
     "timestamp": 1646892911356,
     "user": {
      "displayName": "divya",
      "photoUrl": "https://lh3.googleusercontent.com/a-/AOh14GgWNNntWPBxiei1pdGSr7kPoDUATSkukD5xV-g7qDs=s64",
      "userId": "00255106542832566666"
     },
     "user_tz": -480
    },
    "id": "1baqlMgZ8jmt",
    "outputId": "3cc89af8-7590-49b7-f846-a7dc33fb1acc"
   },
   "outputs": [
    {
     "name": "stdout",
     "output_type": "stream",
     "text": [
      "[[3 6 3]\n",
      " [7 5 2]\n",
      " [7 3 4]]\n",
      "[[7 3 4]\n",
      " [7 5 2]\n",
      " [3 6 3]]\n"
     ]
    }
   ],
   "source": [
    "x = np.random.randint(0,8,(3,3))\n",
    "print(x)\n",
    "print(x[x[:,1].argsort()])"
   ]
  },
  {
   "cell_type": "markdown",
   "metadata": {
    "id": "csGaOPUZ8jmt"
   },
   "source": [
    "#### 60. How to tell if a given 2D array has null columns? (★★☆) \n",
    "(**hint**: any, ~)"
   ]
  },
  {
   "cell_type": "code",
   "execution_count": 95,
   "metadata": {
    "colab": {
     "base_uri": "https://localhost:8080/"
    },
    "executionInfo": {
     "elapsed": 330,
     "status": "ok",
     "timestamp": 1646892923054,
     "user": {
      "displayName": "divya",
      "photoUrl": "https://lh3.googleusercontent.com/a-/AOh14GgWNNntWPBxiei1pdGSr7kPoDUATSkukD5xV-g7qDs=s64",
      "userId": "00255106542832566666"
     },
     "user_tz": -480
    },
    "id": "U_NAtxV-8jmt",
    "outputId": "4cc2c99d-a6ed-4c1c-d5cf-4e11f8df3dde"
   },
   "outputs": [
    {
     "name": "stdout",
     "output_type": "stream",
     "text": [
      "False\n"
     ]
    }
   ],
   "source": [
    "x = np.random.randint(0,3,(3,10))\n",
    "print((~x.any(axis=0)).any())"
   ]
  },
  {
   "cell_type": "markdown",
   "metadata": {
    "id": "mtzxVy-q8jmu"
   },
   "source": [
    "#### 61. Find the nearest value from a given value in an array (★★☆) \n",
    "(**hint**: np.abs, argmin, flat)"
   ]
  },
  {
   "cell_type": "code",
   "execution_count": 96,
   "metadata": {
    "colab": {
     "base_uri": "https://localhost:8080/"
    },
    "executionInfo": {
     "elapsed": 527,
     "status": "ok",
     "timestamp": 1646892942316,
     "user": {
      "displayName": "divya",
      "photoUrl": "https://lh3.googleusercontent.com/a-/AOh14GgWNNntWPBxiei1pdGSr7kPoDUATSkukD5xV-g7qDs=s64",
      "userId": "00255106542832566666"
     },
     "user_tz": -480
    },
    "id": "KjVmnAK78jmu",
    "outputId": "9de50cb4-04d1-43a7-932d-07ce95d71198"
   },
   "outputs": [
    {
     "name": "stdout",
     "output_type": "stream",
     "text": [
      "0.7307228859983288\n"
     ]
    }
   ],
   "source": [
    "X = np.random.uniform(0,1,10)\n",
    "x = 0.7\n",
    "m = X.flat[np.abs(X - x).argmin()]\n",
    "print(m)"
   ]
  },
  {
   "cell_type": "markdown",
   "metadata": {
    "id": "E6NQ5JXU8jmu"
   },
   "source": [
    "#### 62. Considering two arrays with shape (1,3) and (3,1), how to compute their sum using an iterator? (★★☆) \n",
    "(**hint**: np.nditer)"
   ]
  },
  {
   "cell_type": "code",
   "execution_count": 97,
   "metadata": {
    "colab": {
     "base_uri": "https://localhost:8080/"
    },
    "executionInfo": {
     "elapsed": 319,
     "status": "ok",
     "timestamp": 1646892948329,
     "user": {
      "displayName": "divya",
      "photoUrl": "https://lh3.googleusercontent.com/a-/AOh14GgWNNntWPBxiei1pdGSr7kPoDUATSkukD5xV-g7qDs=s64",
      "userId": "00255106542832566666"
     },
     "user_tz": -480
    },
    "id": "nKkl9UWx8jmv",
    "outputId": "dc589e52-b958-4ae5-eb32-d5aca05e5ff7"
   },
   "outputs": [
    {
     "name": "stdout",
     "output_type": "stream",
     "text": [
      "[[0 1 2]\n",
      " [1 2 3]\n",
      " [2 3 4]]\n"
     ]
    }
   ],
   "source": [
    "A = np.arange(3).reshape(3,1)\n",
    "B = np.arange(3).reshape(1,3)\n",
    "it = np.nditer([A,B,None])\n",
    "for x,y,z in it: z[...] = x + y\n",
    "print(it.operands[2])"
   ]
  },
  {
   "cell_type": "markdown",
   "metadata": {
    "id": "EO8puyDW8jmv"
   },
   "source": [
    "#### 63. Create an array class that has a name attribute (★★☆) \n",
    "(**hint**: class method)"
   ]
  },
  {
   "cell_type": "code",
   "execution_count": 98,
   "metadata": {
    "colab": {
     "base_uri": "https://localhost:8080/"
    },
    "executionInfo": {
     "elapsed": 316,
     "status": "ok",
     "timestamp": 1646892951011,
     "user": {
      "displayName": "divya",
      "photoUrl": "https://lh3.googleusercontent.com/a-/AOh14GgWNNntWPBxiei1pdGSr7kPoDUATSkukD5xV-g7qDs=s64",
      "userId": "00255106542832566666"
     },
     "user_tz": -480
    },
    "id": "l5GtLbDa8jmw",
    "outputId": "b6177e56-35a7-413a-83a3-62c669b8cfa4"
   },
   "outputs": [
    {
     "name": "stdout",
     "output_type": "stream",
     "text": [
      "range_10\n"
     ]
    }
   ],
   "source": [
    "class NamedArray(np.ndarray):\n",
    "    def __new__(cls, array, name=\"no name\"):\n",
    "        obj = np.asarray(array).view(cls)\n",
    "        obj.name = name\n",
    "        return obj\n",
    "    def __array_finalize__(self, obj):\n",
    "        if obj is None: \n",
    "          return\n",
    "        self.info = getattr(obj, 'name', \"no name\")\n",
    "\n",
    "Z = NamedArray(np.arange(10), \"range_10\")\n",
    "print (Z.name)"
   ]
  },
  {
   "cell_type": "markdown",
   "metadata": {
    "id": "SWomG9-f8jmw"
   },
   "source": [
    "#### 64. Consider a given vector, how to add 1 to each element indexed by a second vector (be careful with repeated indices)? (★★★) \n",
    "(**hint**: np.bincount | np.add.at)"
   ]
  },
  {
   "cell_type": "code",
   "execution_count": 99,
   "metadata": {
    "colab": {
     "base_uri": "https://localhost:8080/"
    },
    "executionInfo": {
     "elapsed": 334,
     "status": "ok",
     "timestamp": 1646892959490,
     "user": {
      "displayName": "divya",
      "photoUrl": "https://lh3.googleusercontent.com/a-/AOh14GgWNNntWPBxiei1pdGSr7kPoDUATSkukD5xV-g7qDs=s64",
      "userId": "00255106542832566666"
     },
     "user_tz": -480
    },
    "id": "vI8z8B1U8jmx",
    "outputId": "529f0e57-0b93-4fb1-d3ff-9fecf997266d"
   },
   "outputs": [
    {
     "data": {
      "text/plain": [
       "array([2., 3., 7., 2., 2., 5., 1., 2., 4., 2.])"
      ]
     },
     "execution_count": 99,
     "metadata": {},
     "output_type": "execute_result"
    }
   ],
   "source": [
    "x = np.ones(10)\n",
    "I = np.random.randint(0,len(x),20)\n",
    "x += np.bincount(I, minlength=len(x))\n",
    "x"
   ]
  },
  {
   "cell_type": "markdown",
   "metadata": {
    "id": "ZAq4lDlK8jmx"
   },
   "source": [
    "#### 65. How to accumulate elements of a vector (X) to an array (F) based on an index list (I)? (★★★) \n",
    "(**hint**: np.bincount)"
   ]
  },
  {
   "cell_type": "code",
   "execution_count": 100,
   "metadata": {
    "colab": {
     "base_uri": "https://localhost:8080/"
    },
    "executionInfo": {
     "elapsed": 506,
     "status": "ok",
     "timestamp": 1646892962866,
     "user": {
      "displayName": "divya",
      "photoUrl": "https://lh3.googleusercontent.com/a-/AOh14GgWNNntWPBxiei1pdGSr7kPoDUATSkukD5xV-g7qDs=s64",
      "userId": "00255106542832566666"
     },
     "user_tz": -480
    },
    "id": "5-FwZIak8jmy",
    "outputId": "8714dcec-09da-41c3-e1cc-219c1168ff3c"
   },
   "outputs": [
    {
     "data": {
      "text/plain": [
       "array([0., 7., 0., 6., 5., 0., 0., 0., 0., 3.])"
      ]
     },
     "execution_count": 100,
     "metadata": {},
     "output_type": "execute_result"
    }
   ],
   "source": [
    "X = [1,2,3,4,5,6]\n",
    "I = [1,3,9,3,4,1]\n",
    "F = np.bincount(I,X)\n",
    "F"
   ]
  },
  {
   "cell_type": "markdown",
   "metadata": {
    "id": "E6hp7UQU8jmy"
   },
   "source": [
    "#### 66. Considering a (w,h,3) image of (dtype=ubyte), compute the number of unique colors (★★★) \n",
    "(**hint**: np.unique)"
   ]
  },
  {
   "cell_type": "code",
   "execution_count": 101,
   "metadata": {
    "colab": {
     "base_uri": "https://localhost:8080/"
    },
    "executionInfo": {
     "elapsed": 322,
     "status": "ok",
     "timestamp": 1646892967779,
     "user": {
      "displayName": "divya",
      "photoUrl": "https://lh3.googleusercontent.com/a-/AOh14GgWNNntWPBxiei1pdGSr7kPoDUATSkukD5xV-g7qDs=s64",
      "userId": "00255106542832566666"
     },
     "user_tz": -480
    },
    "id": "xTrm-dh08jmz",
    "outputId": "480a960c-56c0-4f87-9045-ae3cd06a8578"
   },
   "outputs": [
    {
     "name": "stdout",
     "output_type": "stream",
     "text": [
      "[0 1]\n"
     ]
    }
   ],
   "source": [
    "w,h = 16,16\n",
    "I = np.random.randint(0,2,(h,w,3)).astype(np.ubyte)\n",
    "F = I[...,0]*256*256 + I[...,1]*256 +I[...,2]\n",
    "n = len(np.unique(F))\n",
    "print(np.unique(I))"
   ]
  },
  {
   "cell_type": "markdown",
   "metadata": {
    "id": "efFIXMBB8jm0"
   },
   "source": [
    "#### 67. Considering a four dimensions array, how to get sum over the last two axis at once? (★★★) \n",
    "(**hint**: sum(axis=(-2,-1)))"
   ]
  },
  {
   "cell_type": "code",
   "execution_count": 102,
   "metadata": {
    "colab": {
     "base_uri": "https://localhost:8080/"
    },
    "executionInfo": {
     "elapsed": 330,
     "status": "ok",
     "timestamp": 1646892975257,
     "user": {
      "displayName": "divya",
      "photoUrl": "https://lh3.googleusercontent.com/a-/AOh14GgWNNntWPBxiei1pdGSr7kPoDUATSkukD5xV-g7qDs=s64",
      "userId": "00255106542832566666"
     },
     "user_tz": -480
    },
    "id": "fpHdrQfD8jm0",
    "outputId": "3c5bb718-9958-482e-beba-95996422b535"
   },
   "outputs": [
    {
     "data": {
      "text/plain": [
       "array([[220, 250, 177, 211, 253, 190],\n",
       "       [221, 220, 248, 187, 236, 242],\n",
       "       [216, 223, 217, 236, 186, 211],\n",
       "       [188, 261, 226, 222, 175, 205],\n",
       "       [195, 213, 209, 262, 197, 243],\n",
       "       [219, 214, 216, 254, 226, 241],\n",
       "       [227, 257, 241, 180, 234, 207],\n",
       "       [203, 218, 211, 231, 219, 216]])"
      ]
     },
     "execution_count": 102,
     "metadata": {},
     "output_type": "execute_result"
    }
   ],
   "source": [
    "x = np.random.randint(0,10,(8,6,8,6))\n",
    "sum = x.reshape(x.shape[:-2] + (-1,)).sum(axis=-1)\n",
    "sum"
   ]
  },
  {
   "cell_type": "markdown",
   "metadata": {
    "id": "ukVjRDIm8jm1"
   },
   "source": [
    "#### 68. Considering a one-dimensional vector D, how to compute means of subsets of D using a vector S of same size describing subset  indices? (★★★) \n",
    "(**hint**: np.bincount)"
   ]
  },
  {
   "cell_type": "code",
   "execution_count": 103,
   "metadata": {
    "colab": {
     "base_uri": "https://localhost:8080/"
    },
    "executionInfo": {
     "elapsed": 322,
     "status": "ok",
     "timestamp": 1646892978331,
     "user": {
      "displayName": "divya",
      "photoUrl": "https://lh3.googleusercontent.com/a-/AOh14GgWNNntWPBxiei1pdGSr7kPoDUATSkukD5xV-g7qDs=s64",
      "userId": "00255106542832566666"
     },
     "user_tz": -480
    },
    "id": "VoxypjTQ8jm1",
    "outputId": "ef510b92-48a5-4dd5-fd80-6ee063064501"
   },
   "outputs": [
    {
     "data": {
      "text/plain": [
       "array([0.41383888, 0.40373193, 0.40985799, 0.46967117, 0.54899333,\n",
       "       0.64652709, 0.44964819, 0.44574011, 0.41089732, 0.46317185])"
      ]
     },
     "execution_count": 103,
     "metadata": {},
     "output_type": "execute_result"
    }
   ],
   "source": [
    "D = np.random.uniform(0,1,100)\n",
    "S = np.random.randint(0,10,100)\n",
    "D_sums = np.bincount(S, weights=D)\n",
    "D_counts = np.bincount(S)\n",
    "D_means = D_sums / D_counts\n",
    "D_means"
   ]
  },
  {
   "cell_type": "markdown",
   "metadata": {
    "id": "jJ3RxtcA8jm1"
   },
   "source": [
    "#### 69. How to get the diagonal of a dot product? (★★★) \n",
    "(**hint**: np.diag)"
   ]
  },
  {
   "cell_type": "code",
   "execution_count": 104,
   "metadata": {
    "colab": {
     "base_uri": "https://localhost:8080/"
    },
    "executionInfo": {
     "elapsed": 395,
     "status": "ok",
     "timestamp": 1646892982382,
     "user": {
      "displayName": "divya",
      "photoUrl": "https://lh3.googleusercontent.com/a-/AOh14GgWNNntWPBxiei1pdGSr7kPoDUATSkukD5xV-g7qDs=s64",
      "userId": "00255106542832566666"
     },
     "user_tz": -480
    },
    "id": "PWp85_pW8jm2",
    "outputId": "5d749d95-9e17-4cc6-df94-ce43051986ff"
   },
   "outputs": [
    {
     "data": {
      "text/plain": [
       "array([39, 45, 86])"
      ]
     },
     "execution_count": 104,
     "metadata": {},
     "output_type": "execute_result"
    }
   ],
   "source": [
    "A = np.random.randint(0,10,(3,3))\n",
    "B= np.random.randint(0,10,(3,3))\n",
    "np.diag(np.dot(A, B))"
   ]
  },
  {
   "cell_type": "markdown",
   "metadata": {
    "id": "LAmjBAWf8jm2"
   },
   "source": [
    "#### 70. Consider the vector \\[1, 2, 3, 4, 5\\], how to build a new vector with 3 consecutive zeros interleaved between each value? (★★★) \n",
    "(**hint**: array\\[::4\\])"
   ]
  },
  {
   "cell_type": "code",
   "execution_count": 105,
   "metadata": {
    "colab": {
     "base_uri": "https://localhost:8080/"
    },
    "executionInfo": {
     "elapsed": 308,
     "status": "ok",
     "timestamp": 1646892985065,
     "user": {
      "displayName": "divya",
      "photoUrl": "https://lh3.googleusercontent.com/a-/AOh14GgWNNntWPBxiei1pdGSr7kPoDUATSkukD5xV-g7qDs=s64",
      "userId": "00255106542832566666"
     },
     "user_tz": -480
    },
    "id": "1GSyXyA58jm2",
    "outputId": "a5023fd0-a6b3-4908-8c2d-5cf325bdacbe"
   },
   "outputs": [
    {
     "name": "stdout",
     "output_type": "stream",
     "text": [
      "[1. 0. 0. 0. 2. 0. 0. 0. 3. 0. 0. 0. 4. 0. 0. 0. 5.]\n"
     ]
    }
   ],
   "source": [
    "Z = np.array([1,2,3,4,5])\n",
    "nz = 3\n",
    "Z0 = np.zeros(len(Z) + (len(Z)-1)*(nz))\n",
    "Z0[::nz+1] = Z\n",
    "print(Z0)"
   ]
  },
  {
   "cell_type": "markdown",
   "metadata": {
    "id": "qaVW46E28jm2"
   },
   "source": [
    "#### 71. Consider an array of dimension (5,5,3), how to mulitply it by an array with dimensions (5,5)? (★★★) \n",
    "(**hint**: array\\[:, :, None\\])"
   ]
  },
  {
   "cell_type": "code",
   "execution_count": 106,
   "metadata": {
    "colab": {
     "base_uri": "https://localhost:8080/"
    },
    "executionInfo": {
     "elapsed": 348,
     "status": "ok",
     "timestamp": 1646892987553,
     "user": {
      "displayName": "divya",
      "photoUrl": "https://lh3.googleusercontent.com/a-/AOh14GgWNNntWPBxiei1pdGSr7kPoDUATSkukD5xV-g7qDs=s64",
      "userId": "00255106542832566666"
     },
     "user_tz": -480
    },
    "id": "1B-qfcdc8jm3",
    "outputId": "34cc3f86-02e5-4205-f25a-fa48269624d8"
   },
   "outputs": [
    {
     "name": "stdout",
     "output_type": "stream",
     "text": [
      "[[[2. 2. 2.]\n",
      "  [2. 2. 2.]\n",
      "  [2. 2. 2.]\n",
      "  [2. 2. 2.]\n",
      "  [2. 2. 2.]]\n",
      "\n",
      " [[2. 2. 2.]\n",
      "  [2. 2. 2.]\n",
      "  [2. 2. 2.]\n",
      "  [2. 2. 2.]\n",
      "  [2. 2. 2.]]\n",
      "\n",
      " [[2. 2. 2.]\n",
      "  [2. 2. 2.]\n",
      "  [2. 2. 2.]\n",
      "  [2. 2. 2.]\n",
      "  [2. 2. 2.]]\n",
      "\n",
      " [[2. 2. 2.]\n",
      "  [2. 2. 2.]\n",
      "  [2. 2. 2.]\n",
      "  [2. 2. 2.]\n",
      "  [2. 2. 2.]]\n",
      "\n",
      " [[2. 2. 2.]\n",
      "  [2. 2. 2.]\n",
      "  [2. 2. 2.]\n",
      "  [2. 2. 2.]\n",
      "  [2. 2. 2.]]]\n"
     ]
    }
   ],
   "source": [
    "x1 = np.ones((5,5,3))\n",
    "x2 = 2*np.ones((5,5))\n",
    "print(x1 * x2[:,:,None])"
   ]
  },
  {
   "cell_type": "markdown",
   "metadata": {
    "id": "stR9ieku8jm3"
   },
   "source": [
    "#### 72. How to swap two rows of an array? (★★★) \n",
    "(**hint**: array\\[\\[\\]\\] = array\\[\\[\\]\\])"
   ]
  },
  {
   "cell_type": "code",
   "execution_count": 107,
   "metadata": {
    "colab": {
     "base_uri": "https://localhost:8080/"
    },
    "executionInfo": {
     "elapsed": 333,
     "status": "ok",
     "timestamp": 1646892991168,
     "user": {
      "displayName": "divya",
      "photoUrl": "https://lh3.googleusercontent.com/a-/AOh14GgWNNntWPBxiei1pdGSr7kPoDUATSkukD5xV-g7qDs=s64",
      "userId": "00255106542832566666"
     },
     "user_tz": -480
    },
    "id": "ITHvo_-V8jm3",
    "outputId": "f3bcf4f9-7b76-4475-ecf8-bce350f0d656"
   },
   "outputs": [
    {
     "name": "stdout",
     "output_type": "stream",
     "text": [
      "[[ 0  1  2  3  4]\n",
      " [ 5  6  7  8  9]\n",
      " [10 11 12 13 14]\n",
      " [15 16 17 18 19]\n",
      " [20 21 22 23 24]]\n"
     ]
    }
   ],
   "source": [
    "x = np.arange(25).reshape(5,5)\n",
    "#x[[0,1]] = x[[1,0]]\n",
    "print(x)"
   ]
  },
  {
   "cell_type": "code",
   "execution_count": 108,
   "metadata": {
    "colab": {
     "base_uri": "https://localhost:8080/"
    },
    "executionInfo": {
     "elapsed": 339,
     "status": "ok",
     "timestamp": 1646893003558,
     "user": {
      "displayName": "divya",
      "photoUrl": "https://lh3.googleusercontent.com/a-/AOh14GgWNNntWPBxiei1pdGSr7kPoDUATSkukD5xV-g7qDs=s64",
      "userId": "00255106542832566666"
     },
     "user_tz": -480
    },
    "id": "6jhkl1buxDT4",
    "outputId": "087a19b1-7fd5-4d2d-ecd6-0e079b452033"
   },
   "outputs": [
    {
     "name": "stdout",
     "output_type": "stream",
     "text": [
      "[[ 5  6  7  8  9]\n",
      " [ 0  1  2  3  4]\n",
      " [10 11 12 13 14]\n",
      " [15 16 17 18 19]\n",
      " [20 21 22 23 24]]\n"
     ]
    }
   ],
   "source": [
    "x[[0,1]] = x[[1,0]]\n",
    "print(x)"
   ]
  },
  {
   "cell_type": "markdown",
   "metadata": {
    "id": "S39unR3p8jm4"
   },
   "source": [
    "#### 73. Consider a set of 10 triplets describing 10 triangles (with shared vertices), find the set of unique line segments composing all the  triangles (★★★) \n",
    "(**hint**: repeat, np.roll, np.sort, view, np.unique)"
   ]
  },
  {
   "cell_type": "code",
   "execution_count": 109,
   "metadata": {
    "colab": {
     "base_uri": "https://localhost:8080/"
    },
    "executionInfo": {
     "elapsed": 319,
     "status": "ok",
     "timestamp": 1646893009108,
     "user": {
      "displayName": "divya",
      "photoUrl": "https://lh3.googleusercontent.com/a-/AOh14GgWNNntWPBxiei1pdGSr7kPoDUATSkukD5xV-g7qDs=s64",
      "userId": "00255106542832566666"
     },
     "user_tz": -480
    },
    "id": "TT4fDvE88jm5",
    "outputId": "9535b826-0771-4918-87c8-03b26c621ddd"
   },
   "outputs": [
    {
     "name": "stdout",
     "output_type": "stream",
     "text": [
      "[(0, 3) (0, 4) (0, 5) (0, 8) (1, 3) (1, 6) (1, 7) (1, 9) (2, 4) (2, 5)\n",
      " (2, 6) (3, 4) (3, 6) (3, 8) (4, 4) (4, 6) (4, 8) (4, 9) (5, 6) (5, 8)\n",
      " (6, 9) (7, 9) (8, 9)]\n"
     ]
    }
   ],
   "source": [
    "faces = np.random.randint(0,10,(10,3))\n",
    "F = np.roll(faces.repeat(2,axis=1),-1,axis=1)\n",
    "F = F.reshape(len(F)*3,2)\n",
    "F = np.sort(F,axis=1)\n",
    "G = F.view( dtype=[('p0',F.dtype),('p1',F.dtype)] )\n",
    "G = np.unique(G)\n",
    "print(G)"
   ]
  },
  {
   "cell_type": "markdown",
   "metadata": {
    "id": "98pnWkUK8jm5"
   },
   "source": [
    "#### 74. Given an array C that is a bincount, how to produce an array A such that np.bincount(A) == C? (★★★) \n",
    "(**hint**: np.repeat)"
   ]
  },
  {
   "cell_type": "code",
   "execution_count": 110,
   "metadata": {
    "colab": {
     "base_uri": "https://localhost:8080/"
    },
    "executionInfo": {
     "elapsed": 319,
     "status": "ok",
     "timestamp": 1646893029334,
     "user": {
      "displayName": "divya",
      "photoUrl": "https://lh3.googleusercontent.com/a-/AOh14GgWNNntWPBxiei1pdGSr7kPoDUATSkukD5xV-g7qDs=s64",
      "userId": "00255106542832566666"
     },
     "user_tz": -480
    },
    "id": "fFt4yV2u8jm6",
    "outputId": "31c9eab1-fe51-43be-dc59-7f5f17d35a9a"
   },
   "outputs": [
    {
     "name": "stdout",
     "output_type": "stream",
     "text": [
      "[1 1 2 3 4 4 6]\n"
     ]
    }
   ],
   "source": [
    "C = np.bincount([1,1,2,3,4,4,6])\n",
    "A = np.repeat(np.arange(len(C)), C)\n",
    "print(A)"
   ]
  },
  {
   "cell_type": "markdown",
   "metadata": {
    "id": "uTSN7lPn8jm6"
   },
   "source": [
    "#### 75. How to compute averages using a sliding window over an array? (★★★) \n",
    "(**hint**: np.cumsum)"
   ]
  },
  {
   "cell_type": "code",
   "execution_count": 111,
   "metadata": {
    "colab": {
     "base_uri": "https://localhost:8080/"
    },
    "executionInfo": {
     "elapsed": 327,
     "status": "ok",
     "timestamp": 1646893033898,
     "user": {
      "displayName": "divya",
      "photoUrl": "https://lh3.googleusercontent.com/a-/AOh14GgWNNntWPBxiei1pdGSr7kPoDUATSkukD5xV-g7qDs=s64",
      "userId": "00255106542832566666"
     },
     "user_tz": -480
    },
    "id": "QghJUyR58jm6",
    "outputId": "fc2177a4-f352-409d-b272-1411c090746a"
   },
   "outputs": [
    {
     "name": "stdout",
     "output_type": "stream",
     "text": [
      "[ 1.  2.  3.  4.  5.  6.  7.  8.  9. 10. 11. 12. 13. 14. 15. 16. 17. 18.]\n"
     ]
    }
   ],
   "source": [
    "def moving_average(x, n=3) :\n",
    "    ret = np.cumsum(x, dtype=float)\n",
    "    ret[n:] = ret[n:] - ret[:-n]\n",
    "    return ret[n - 1:] / n\n",
    "X = np.arange(20)\n",
    "print(moving_average(X, n=3))"
   ]
  },
  {
   "cell_type": "markdown",
   "metadata": {
    "id": "g4fPxM_o8jm6"
   },
   "source": [
    "#### 76. Consider a one-dimensional array Z, build a two-dimensional array whose first row is (Z\\[0\\],Z\\[1\\],Z\\[2\\]) and each subsequent row is  shifted by 1 (last row should be (Z\\[-3\\],Z\\[-2\\],Z\\[-1\\]) (★★★) \n",
    "(**hint**: from numpy.lib import stride_tricks)"
   ]
  },
  {
   "cell_type": "code",
   "execution_count": 112,
   "metadata": {
    "colab": {
     "base_uri": "https://localhost:8080/"
    },
    "executionInfo": {
     "elapsed": 328,
     "status": "ok",
     "timestamp": 1646893079951,
     "user": {
      "displayName": "divya",
      "photoUrl": "https://lh3.googleusercontent.com/a-/AOh14GgWNNntWPBxiei1pdGSr7kPoDUATSkukD5xV-g7qDs=s64",
      "userId": "00255106542832566666"
     },
     "user_tz": -480
    },
    "id": "iXE-ShsK8jm7",
    "outputId": "7c3f4cc7-be3a-4f6f-df06-482a235a8292"
   },
   "outputs": [
    {
     "name": "stdout",
     "output_type": "stream",
     "text": [
      "[[0 1 2]\n",
      " [1 2 3]\n",
      " [2 3 4]\n",
      " [3 4 5]\n",
      " [4 5 6]\n",
      " [5 6 7]\n",
      " [6 7 8]\n",
      " [7 8 9]]\n"
     ]
    }
   ],
   "source": [
    "def rolling(x, window):\n",
    "    shape = (x.size - window + 1, window)\n",
    "    strides = (x.itemsize, x.itemsize)\n",
    "    return np.lib.stride_tricks.as_strided(x, shape=shape, strides=strides)\n",
    "A = rolling(np.arange(10), 3)\n",
    "print(A)"
   ]
  },
  {
   "cell_type": "markdown",
   "metadata": {
    "id": "cERyVf3y8jm7"
   },
   "source": [
    "#### 77. How to negate a boolean, or to change the sign of a float inplace? (★★★) \n",
    "(**hint**: np.logical_not, np.negative)"
   ]
  },
  {
   "cell_type": "code",
   "execution_count": 113,
   "metadata": {
    "colab": {
     "base_uri": "https://localhost:8080/"
    },
    "executionInfo": {
     "elapsed": 335,
     "status": "ok",
     "timestamp": 1646893088765,
     "user": {
      "displayName": "divya",
      "photoUrl": "https://lh3.googleusercontent.com/a-/AOh14GgWNNntWPBxiei1pdGSr7kPoDUATSkukD5xV-g7qDs=s64",
      "userId": "00255106542832566666"
     },
     "user_tz": -480
    },
    "id": "AJXQbQGK8jm7",
    "outputId": "3b8f3937-c28c-49cf-c696-91fb9dc84cca"
   },
   "outputs": [
    {
     "name": "stdout",
     "output_type": "stream",
     "text": [
      "original: \n",
      "[1 0 1 1 1 0 0 0 0 1 1 1 0 0 1 1 1 1 0 0 1 0 1 0 0 0 0 1 0 1 1 1 0 0 0 0 0\n",
      " 1 0 1 1 0 1 1 0 1 1 1 1 1 1 1 1 0 1 0 0 0 0 0 1 1 0 0 1 0 0 0 1 1 1 1 1 0\n",
      " 1 1 0 1 1 0 0 1 0 0 0 1 1 1 1 0 1 0 0 1 0 1 1 1 1 0]\n",
      "Negating a boolean: \n",
      "[0 1 0 0 0 1 1 1 1 0 0 0 1 1 0 0 0 0 1 1 0 1 0 1 1 1 1 0 1 0 0 0 1 1 1 1 1\n",
      " 0 1 0 0 1 0 0 1 0 0 0 0 0 0 0 0 1 0 1 1 1 1 1 0 0 1 1 0 1 1 1 0 0 0 0 0 1\n",
      " 0 0 1 0 0 1 1 0 1 1 1 0 0 0 0 1 0 1 1 0 1 0 0 0 0 1]\n",
      "original: \n",
      "[ 0.98081046  0.39830428 -0.39430758 -0.20457851  0.71258117 -0.82911741\n",
      " -0.72568977 -0.71030066 -0.19564149 -0.15536775]\n",
      "Change the sign of float inplace: \n",
      "[-0.98081046 -0.39830428  0.39430758  0.20457851 -0.71258117  0.82911741\n",
      "  0.72568977  0.71030066  0.19564149  0.15536775]\n"
     ]
    }
   ],
   "source": [
    "Z = np.random.randint(0,2,100)\n",
    "print ('original: ')\n",
    "print (Z)\n",
    "print('Negating a boolean: ')\n",
    "print(np.logical_not(Z, out=Z))\n",
    "\n",
    "\n",
    "Z = np.random.uniform(-1.0,1.0,10)\n",
    "print ('original: ')\n",
    "print (Z)\n",
    "print ('Change the sign of float inplace: ')\n",
    "print(np.negative(Z, out=Z))"
   ]
  },
  {
   "cell_type": "markdown",
   "metadata": {
    "id": "MMF6hSEM8jm7"
   },
   "source": [
    "#### 78. Consider 2 sets of points P0,P1 describing lines (2d) and a point p, how to compute distance from p to each line i  (P0\\[i\\],P1\\[i\\])? (★★★)"
   ]
  },
  {
   "cell_type": "code",
   "execution_count": 114,
   "metadata": {
    "colab": {
     "base_uri": "https://localhost:8080/"
    },
    "executionInfo": {
     "elapsed": 347,
     "status": "ok",
     "timestamp": 1646893094368,
     "user": {
      "displayName": "divya",
      "photoUrl": "https://lh3.googleusercontent.com/a-/AOh14GgWNNntWPBxiei1pdGSr7kPoDUATSkukD5xV-g7qDs=s64",
      "userId": "00255106542832566666"
     },
     "user_tz": -480
    },
    "id": "Kei4eDlS8jm8",
    "outputId": "29772cd2-0df0-4f20-d7c6-1d7b8eae92ba"
   },
   "outputs": [
    {
     "name": "stdout",
     "output_type": "stream",
     "text": [
      "[10.14365378  1.82008319 17.36184075  7.80652225 18.16800344  1.59094872\n",
      "  2.97757822  6.11035659  9.68782192  8.05507843]\n"
     ]
    }
   ],
   "source": [
    "def distance(P0, P1, p):\n",
    "    T = P1 - P0\n",
    "    L = (T**2).sum(axis=1)\n",
    "    U = -((P0[:,0]-p[...,0])*T[:,0] + (P0[:,1]-p[...,1])*T[:,1]) / L\n",
    "    U = U.reshape(len(U),1)\n",
    "    D = P0 + U*T - p\n",
    "    return np.sqrt((D**2).sum(axis=1))\n",
    "\n",
    "P0 = np.random.uniform(-10,10,(10,2))\n",
    "P1 = np.random.uniform(-10,10,(10,2))\n",
    "p  = np.random.uniform(-10,10,( 1,2))\n",
    "print(distance(P0, P1, p))"
   ]
  },
  {
   "cell_type": "markdown",
   "metadata": {
    "id": "Ei7QSsSl8jm8"
   },
   "source": [
    "#### 79. Consider 2 sets of points P0,P1 describing lines (2d) and a set of points P, how to compute distance from each point j (P\\[j\\]) to each line i (P0\\[i\\],P1\\[i\\])? (★★★)"
   ]
  },
  {
   "cell_type": "code",
   "execution_count": 128,
   "metadata": {
    "colab": {
     "base_uri": "https://localhost:8080/"
    },
    "executionInfo": {
     "elapsed": 332,
     "status": "ok",
     "timestamp": 1646893386572,
     "user": {
      "displayName": "divya",
      "photoUrl": "https://lh3.googleusercontent.com/a-/AOh14GgWNNntWPBxiei1pdGSr7kPoDUATSkukD5xV-g7qDs=s64",
      "userId": "00255106542832566666"
     },
     "user_tz": -480
    },
    "id": "ARUV2K4b8jm8",
    "outputId": "748584a2-b536-40b7-bb08-b304ebd4da40"
   },
   "outputs": [
    {
     "name": "stdout",
     "output_type": "stream",
     "text": [
      "[[ 9.47986148  6.30874297  4.87489482  0.82825389  3.4506966 ]\n",
      " [ 6.79213641  5.95917255  2.93752752  3.3390398   3.77895975]\n",
      " [14.61182677 15.77205334  3.06622552  7.95654594 11.42049782]\n",
      " [ 7.83333737 15.67306326  2.30992785  1.97938169 13.01328719]\n",
      " [ 2.84871641 16.54035289 11.42284964  6.97561748 16.52343022]]\n"
     ]
    }
   ],
   "source": [
    "P0 = np.random.uniform(-10, 10, (5,2))\n",
    "P1 = np.random.uniform(-10,10,(5,2))\n",
    "p = np.random.uniform(-10, 10, (5,2))\n",
    "print (np.array([distance(P0,P1,p_i) for p_i in p]))"
   ]
  },
  {
   "cell_type": "markdown",
   "metadata": {
    "id": "BjqdQdi78jm9"
   },
   "source": [
    "#### 80. Consider an arbitrary array, write a function that extract a subpart with a fixed shape and centered on a given element (pad with a `fill` value when necessary) (★★★) \n",
    "(**hint**: minimum, maximum)"
   ]
  },
  {
   "cell_type": "code",
   "execution_count": 115,
   "metadata": {
    "colab": {
     "base_uri": "https://localhost:8080/"
    },
    "executionInfo": {
     "elapsed": 333,
     "status": "ok",
     "timestamp": 1646893099617,
     "user": {
      "displayName": "divya",
      "photoUrl": "https://lh3.googleusercontent.com/a-/AOh14GgWNNntWPBxiei1pdGSr7kPoDUATSkukD5xV-g7qDs=s64",
      "userId": "00255106542832566666"
     },
     "user_tz": -480
    },
    "id": "k7zzYhfH8jm9",
    "outputId": "91c374fa-39cc-440a-8453-92cfb1333e3d"
   },
   "outputs": [
    {
     "name": "stdout",
     "output_type": "stream",
     "text": [
      "[[1 3 9 6 4 2 4 8 0 1]\n",
      " [0 9 9 8 1 3 0 1 2 2]\n",
      " [1 5 8 2 7 2 0 7 5 7]\n",
      " [7 1 5 2 7 9 9 5 4 5]\n",
      " [7 0 4 5 3 8 9 3 7 7]\n",
      " [9 9 5 6 8 1 9 7 3 8]\n",
      " [4 0 5 9 6 3 7 5 1 7]\n",
      " [2 0 4 8 9 6 5 3 6 1]\n",
      " [4 9 3 1 9 8 0 1 6 8]\n",
      " [7 2 3 1 1 8 5 5 3 2]]\n",
      "[[0 0 0 0 0]\n",
      " [0 1 3 9 6]\n",
      " [0 0 9 9 8]\n",
      " [0 1 5 8 2]\n",
      " [0 7 1 5 2]]\n"
     ]
    },
    {
     "name": "stderr",
     "output_type": "stream",
     "text": [
      "/usr/local/lib/python3.7/dist-packages/ipykernel_launcher.py:23: FutureWarning: Using a non-tuple sequence for multidimensional indexing is deprecated; use `arr[tuple(seq)]` instead of `arr[seq]`. In the future this will be interpreted as an array index, `arr[np.array(seq)]`, which will result either in an error or a different result.\n"
     ]
    }
   ],
   "source": [
    "Z = np.random.randint(0,10,(10,10))\n",
    "shape = (5,5)\n",
    "fill  = 0\n",
    "position = (1,1)\n",
    "\n",
    "R = np.ones(shape, dtype=Z.dtype)*fill\n",
    "P  = np.array(list(position)).astype(int)\n",
    "Rs = np.array(list(R.shape)).astype(int)\n",
    "Zs = np.array(list(Z.shape)).astype(int)\n",
    "\n",
    "R_start = np.zeros((len(shape),)).astype(int)\n",
    "R_stop  = np.array(list(shape)).astype(int)\n",
    "Z_start = (P-Rs//2)\n",
    "Z_stop  = (P+Rs//2)+Rs%2\n",
    "\n",
    "R_start = (R_start - np.minimum(Z_start,0)).tolist()\n",
    "Z_start = (np.maximum(Z_start,0)).tolist()\n",
    "R_stop = np.maximum(R_start, (R_stop - np.maximum(Z_stop-Zs,0))).tolist()\n",
    "Z_stop = (np.minimum(Z_stop,Zs)).tolist()\n",
    "\n",
    "r = [slice(start,stop) for start,stop in zip(R_start,R_stop)]\n",
    "z = [slice(start,stop) for start,stop in zip(Z_start,Z_stop)]\n",
    "R[r] = Z[z]\n",
    "print(Z)\n",
    "print(R)"
   ]
  },
  {
   "cell_type": "markdown",
   "metadata": {
    "id": "ZWjh90a48jm9"
   },
   "source": [
    "#### 81. Consider an array Z = \\[1,2,3,4,5,6,7,8,9,10,11,12,13,14\\], how to generate an array R = \\[\\[1,2,3,4\\], \\[2,3,4,5\\], \\[3,4,5,6\\], ..., \\[11,12,13,14\\]\\]? (★★★) \n",
    "(**hint**: stride\\_tricks.as\\_strided)"
   ]
  },
  {
   "cell_type": "code",
   "execution_count": 116,
   "metadata": {
    "colab": {
     "base_uri": "https://localhost:8080/"
    },
    "executionInfo": {
     "elapsed": 353,
     "status": "ok",
     "timestamp": 1646893107832,
     "user": {
      "displayName": "divya",
      "photoUrl": "https://lh3.googleusercontent.com/a-/AOh14GgWNNntWPBxiei1pdGSr7kPoDUATSkukD5xV-g7qDs=s64",
      "userId": "00255106542832566666"
     },
     "user_tz": -480
    },
    "id": "Tvf7c8sZ8jm-",
    "outputId": "00e85e24-bf39-4cd8-cdc1-e76e4824b087"
   },
   "outputs": [
    {
     "name": "stdout",
     "output_type": "stream",
     "text": [
      "original: \n",
      "[ 1  2  3  4  5  6  7  8  9 10 11 12 13 14]\n",
      "after strides: \n",
      "[[ 1  2  3  4]\n",
      " [ 2  3  4  5]\n",
      " [ 3  4  5  6]\n",
      " [ 4  5  6  7]\n",
      " [ 5  6  7  8]\n",
      " [ 6  7  8  9]\n",
      " [ 7  8  9 10]\n",
      " [ 8  9 10 11]\n",
      " [ 9 10 11 12]\n",
      " [10 11 12 13]\n",
      " [11 12 13 14]]\n"
     ]
    }
   ],
   "source": [
    "Z = np.arange(1,15,dtype=int)\n",
    "\n",
    "def rolling(a, window):\n",
    "    shape = (a.size - window + 1, window)\n",
    "    strides = (a.itemsize, a.itemsize)\n",
    "    return np.lib.stride_tricks.as_strided(a, shape=shape, strides=strides)\n",
    "R = rolling(Z, 4)\n",
    "print ('original: ')\n",
    "print (Z)\n",
    "print ('after strides: ')\n",
    "print(R)"
   ]
  },
  {
   "cell_type": "markdown",
   "metadata": {
    "id": "I16UCnnB8jm-"
   },
   "source": [
    "#### 82. Compute a matrix rank (★★★) \n",
    "(**hint**: np.linalg.svd) (suggestion: np.linalg.svd)"
   ]
  },
  {
   "cell_type": "code",
   "execution_count": 117,
   "metadata": {
    "colab": {
     "base_uri": "https://localhost:8080/"
    },
    "executionInfo": {
     "elapsed": 318,
     "status": "ok",
     "timestamp": 1646893113733,
     "user": {
      "displayName": "divya",
      "photoUrl": "https://lh3.googleusercontent.com/a-/AOh14GgWNNntWPBxiei1pdGSr7kPoDUATSkukD5xV-g7qDs=s64",
      "userId": "00255106542832566666"
     },
     "user_tz": -480
    },
    "id": "D53_GpVh8jm-",
    "outputId": "293a4ec5-5665-4541-f781-6a5fce4712cf"
   },
   "outputs": [
    {
     "name": "stdout",
     "output_type": "stream",
     "text": [
      "10\n"
     ]
    }
   ],
   "source": [
    "Z = np.random.uniform(0,1,(10,10))\n",
    "U, S, V = np.linalg.svd(Z) # Singular Value Decomposition\n",
    "rank = np.sum(S > 1e-10)\n",
    "print (rank)"
   ]
  },
  {
   "cell_type": "markdown",
   "metadata": {
    "id": "AgpxIfFr8jm_"
   },
   "source": [
    "#### 83. How to find the most frequent value in an array? \n",
    "(**hint**: np.bincount, argmax)"
   ]
  },
  {
   "cell_type": "code",
   "execution_count": 118,
   "metadata": {
    "colab": {
     "base_uri": "https://localhost:8080/"
    },
    "executionInfo": {
     "elapsed": 390,
     "status": "ok",
     "timestamp": 1646893116570,
     "user": {
      "displayName": "divya",
      "photoUrl": "https://lh3.googleusercontent.com/a-/AOh14GgWNNntWPBxiei1pdGSr7kPoDUATSkukD5xV-g7qDs=s64",
      "userId": "00255106542832566666"
     },
     "user_tz": -480
    },
    "id": "7Xq_fiBn8jm_",
    "outputId": "bb4eb82d-6ee3-4d3a-bbc3-29cdc2988353"
   },
   "outputs": [
    {
     "name": "stdout",
     "output_type": "stream",
     "text": [
      "[1 2 7 4 9 1 4 1 1 5 8 7 0 6 0 4 2 1 6 7 7 2 0 5 2 0 2 8 9 3 9 2 7 7 6 3 2\n",
      " 7 4 7 6 9 3 1 9 2 4 2 4 5]\n",
      "rank: 2\n"
     ]
    }
   ],
   "source": [
    "Z = np.random.randint(0,10,50)\n",
    "print (Z)\n",
    "print('rank:', np.bincount(Z).argmax())"
   ]
  },
  {
   "cell_type": "markdown",
   "metadata": {
    "id": "Pt2C1HNz8jm_"
   },
   "source": [
    "#### 84. Extract all the contiguous 3x3 blocks from a random 10x10 matrix (★★★) \n",
    "(**hint**: stride\\_tricks.as\\_strided)"
   ]
  },
  {
   "cell_type": "code",
   "execution_count": 119,
   "metadata": {
    "colab": {
     "base_uri": "https://localhost:8080/"
    },
    "executionInfo": {
     "elapsed": 332,
     "status": "ok",
     "timestamp": 1646893143789,
     "user": {
      "displayName": "divya",
      "photoUrl": "https://lh3.googleusercontent.com/a-/AOh14GgWNNntWPBxiei1pdGSr7kPoDUATSkukD5xV-g7qDs=s64",
      "userId": "00255106542832566666"
     },
     "user_tz": -480
    },
    "id": "r1Bn0Nh_8jnA",
    "outputId": "cc1fd678-4ae8-4934-e641-4d4c0e69745d"
   },
   "outputs": [
    {
     "name": "stdout",
     "output_type": "stream",
     "text": [
      "[[[[0 4 0]\n",
      "   [4 1 4]\n",
      "   [1 4 2]]\n",
      "\n",
      "  [[4 0 2]\n",
      "   [1 4 4]\n",
      "   [4 2 0]]\n",
      "\n",
      "  [[0 2 3]\n",
      "   [4 4 0]\n",
      "   [2 0 2]]\n",
      "\n",
      "  [[2 3 4]\n",
      "   [4 0 2]\n",
      "   [0 2 2]]]\n",
      "\n",
      "\n",
      " [[[4 1 4]\n",
      "   [1 4 2]\n",
      "   [1 4 3]]\n",
      "\n",
      "  [[1 4 4]\n",
      "   [4 2 0]\n",
      "   [4 3 2]]\n",
      "\n",
      "  [[4 4 0]\n",
      "   [2 0 2]\n",
      "   [3 2 4]]\n",
      "\n",
      "  [[4 0 2]\n",
      "   [0 2 2]\n",
      "   [2 4 0]]]\n",
      "\n",
      "\n",
      " [[[1 4 2]\n",
      "   [1 4 3]\n",
      "   [0 2 3]]\n",
      "\n",
      "  [[4 2 0]\n",
      "   [4 3 2]\n",
      "   [2 3 2]]\n",
      "\n",
      "  [[2 0 2]\n",
      "   [3 2 4]\n",
      "   [3 2 4]]\n",
      "\n",
      "  [[0 2 2]\n",
      "   [2 4 0]\n",
      "   [2 4 3]]]\n",
      "\n",
      "\n",
      " [[[1 4 3]\n",
      "   [0 2 3]\n",
      "   [4 0 1]]\n",
      "\n",
      "  [[4 3 2]\n",
      "   [2 3 2]\n",
      "   [0 1 2]]\n",
      "\n",
      "  [[3 2 4]\n",
      "   [3 2 4]\n",
      "   [1 2 3]]\n",
      "\n",
      "  [[2 4 0]\n",
      "   [2 4 3]\n",
      "   [2 3 1]]]]\n"
     ]
    }
   ],
   "source": [
    "Z = np.random.randint(0,5,(6,6))\n",
    "n = 3\n",
    "i = 1 + (Z.shape[0]-3)\n",
    "j = 1 + (Z.shape[1]-3)\n",
    "C = np.lib.stride_tricks.as_strided(Z, shape=(i, j, n, n), strides=Z.strides + Z.strides)\n",
    "print(C)"
   ]
  },
  {
   "cell_type": "markdown",
   "metadata": {
    "id": "5M2BA0ry8jnA"
   },
   "source": [
    "#### 85. Create a 2D array subclass such that Z\\[i,j\\] == Z\\[j,i\\] (★★★) \n",
    "(**hint**: class method)"
   ]
  },
  {
   "cell_type": "code",
   "execution_count": 120,
   "metadata": {
    "colab": {
     "base_uri": "https://localhost:8080/"
    },
    "executionInfo": {
     "elapsed": 536,
     "status": "ok",
     "timestamp": 1646893181822,
     "user": {
      "displayName": "divya",
      "photoUrl": "https://lh3.googleusercontent.com/a-/AOh14GgWNNntWPBxiei1pdGSr7kPoDUATSkukD5xV-g7qDs=s64",
      "userId": "00255106542832566666"
     },
     "user_tz": -480
    },
    "id": "h6tgqiig8jnB",
    "outputId": "63572cf3-5b56-491c-acd9-367aa5f0b924"
   },
   "outputs": [
    {
     "name": "stdout",
     "output_type": "stream",
     "text": [
      "[[ 4  5 10  4  1]\n",
      " [ 5  3 12  8 17]\n",
      " [10 12  3 42  5]\n",
      " [ 4  8 42  0  7]\n",
      " [ 1 17  5  7  9]]\n"
     ]
    }
   ],
   "source": [
    "class Symetric(np.ndarray):\n",
    "    def __setitem__(self, index, value):\n",
    "        i,j = index\n",
    "        super(Symetric, self).__setitem__((i,j), value)\n",
    "        super(Symetric, self).__setitem__((j,i), value)\n",
    "\n",
    "def symetric(Z):\n",
    "    return np.asarray(Z + Z.T - np.diag(Z.diagonal())).view(Symetric)\n",
    "\n",
    "S = symetric(np.random.randint(0,10,(5,5)))\n",
    "S[2,3] = 42\n",
    "print(S)"
   ]
  },
  {
   "cell_type": "markdown",
   "metadata": {
    "id": "edLvmkHb8jnB"
   },
   "source": [
    "#### 86. Consider a set of p matrices wich shape (n,n) and a set of p vectors with shape (n,1). How to compute the sum of of the p matrix products at once? (result has shape (n,1)) (★★★) \n",
    "(**hint**: np.tensordot)"
   ]
  },
  {
   "cell_type": "code",
   "execution_count": 52,
   "metadata": {
    "colab": {
     "base_uri": "https://localhost:8080/"
    },
    "executionInfo": {
     "elapsed": 366,
     "status": "ok",
     "timestamp": 1646892566215,
     "user": {
      "displayName": "divya",
      "photoUrl": "https://lh3.googleusercontent.com/a-/AOh14GgWNNntWPBxiei1pdGSr7kPoDUATSkukD5xV-g7qDs=s64",
      "userId": "00255106542832566666"
     },
     "user_tz": -480
    },
    "id": "23_Ywwlk8jnC",
    "outputId": "9cac0271-1f70-4cea-9a10-bd2f1c721d6e"
   },
   "outputs": [
    {
     "name": "stdout",
     "output_type": "stream",
     "text": [
      "[[200.]\n",
      " [200.]\n",
      " [200.]\n",
      " [200.]\n",
      " [200.]\n",
      " [200.]\n",
      " [200.]\n",
      " [200.]\n",
      " [200.]\n",
      " [200.]\n",
      " [200.]\n",
      " [200.]\n",
      " [200.]\n",
      " [200.]\n",
      " [200.]\n",
      " [200.]\n",
      " [200.]\n",
      " [200.]\n",
      " [200.]\n",
      " [200.]]\n"
     ]
    }
   ],
   "source": [
    "p, n = 10, 20\n",
    "M = np.ones((p,n,n))\n",
    "V = np.ones((p,n,1))\n",
    "S = np.tensordot(M, V, axes=[[0, 2], [0, 1]])\n",
    "print(S)"
   ]
  },
  {
   "cell_type": "markdown",
   "metadata": {
    "id": "uNgv2qru8jnC"
   },
   "source": [
    "#### 87. Consider a 16x16 array, how to get the block-sum (block size is 4x4)? (★★★) \n",
    "(**hint**: np.add.reduceat)"
   ]
  },
  {
   "cell_type": "code",
   "execution_count": 53,
   "metadata": {
    "colab": {
     "base_uri": "https://localhost:8080/"
    },
    "executionInfo": {
     "elapsed": 329,
     "status": "ok",
     "timestamp": 1646892577547,
     "user": {
      "displayName": "divya",
      "photoUrl": "https://lh3.googleusercontent.com/a-/AOh14GgWNNntWPBxiei1pdGSr7kPoDUATSkukD5xV-g7qDs=s64",
      "userId": "00255106542832566666"
     },
     "user_tz": -480
    },
    "id": "FuWBfwhn8jnC",
    "outputId": "301a75a1-1771-4d7a-8fe9-2e7ad5224eea"
   },
   "outputs": [
    {
     "name": "stdout",
     "output_type": "stream",
     "text": [
      "input array\n",
      "[[1. 1. 1. 1. 1. 1. 1. 1. 1. 1. 1. 1. 1. 1. 1. 1.]\n",
      " [1. 1. 1. 1. 1. 1. 1. 1. 1. 1. 1. 1. 1. 1. 1. 1.]\n",
      " [1. 1. 1. 1. 1. 1. 1. 1. 1. 1. 1. 1. 1. 1. 1. 1.]\n",
      " [1. 1. 1. 1. 1. 1. 1. 1. 1. 1. 1. 1. 1. 1. 1. 1.]\n",
      " [1. 1. 1. 1. 1. 1. 1. 1. 1. 1. 1. 1. 1. 1. 1. 1.]\n",
      " [1. 1. 1. 1. 1. 1. 1. 1. 1. 1. 1. 1. 1. 1. 1. 1.]\n",
      " [1. 1. 1. 1. 1. 1. 1. 1. 1. 1. 1. 1. 1. 1. 1. 1.]\n",
      " [1. 1. 1. 1. 1. 1. 1. 1. 1. 1. 1. 1. 1. 1. 1. 1.]\n",
      " [1. 1. 1. 1. 1. 1. 1. 1. 1. 1. 1. 1. 1. 1. 1. 1.]\n",
      " [1. 1. 1. 1. 1. 1. 1. 1. 1. 1. 1. 1. 1. 1. 1. 1.]\n",
      " [1. 1. 1. 1. 1. 1. 1. 1. 1. 1. 1. 1. 1. 1. 1. 1.]\n",
      " [1. 1. 1. 1. 1. 1. 1. 1. 1. 1. 1. 1. 1. 1. 1. 1.]\n",
      " [1. 1. 1. 1. 1. 1. 1. 1. 1. 1. 1. 1. 1. 1. 1. 1.]\n",
      " [1. 1. 1. 1. 1. 1. 1. 1. 1. 1. 1. 1. 1. 1. 1. 1.]\n",
      " [1. 1. 1. 1. 1. 1. 1. 1. 1. 1. 1. 1. 1. 1. 1. 1.]\n",
      " [1. 1. 1. 1. 1. 1. 1. 1. 1. 1. 1. 1. 1. 1. 1. 1.]]\n",
      "block sum\n",
      "[[16. 16. 16. 16.]\n",
      " [16. 16. 16. 16.]\n",
      " [16. 16. 16. 16.]\n",
      " [16. 16. 16. 16.]]\n"
     ]
    }
   ],
   "source": [
    "Z = np.ones((16,16))\n",
    "k = 4\n",
    "S = np.add.reduceat(np.add.reduceat(Z, np.arange(0, Z.shape[0], k), axis=0),\n",
    "                                       np.arange(0, Z.shape[1], k), axis=1)\n",
    "print ('input array')\n",
    "print (Z)\n",
    "print ('block sum')\n",
    "print (S)"
   ]
  },
  {
   "cell_type": "markdown",
   "metadata": {
    "id": "z2uSL40x8jnD"
   },
   "source": [
    "#### 88. How to implement the Game of Life using numpy arrays? (★★★)"
   ]
  },
  {
   "cell_type": "code",
   "execution_count": 55,
   "metadata": {
    "executionInfo": {
     "elapsed": 340,
     "status": "ok",
     "timestamp": 1646892588325,
     "user": {
      "displayName": "divya",
      "photoUrl": "https://lh3.googleusercontent.com/a-/AOh14GgWNNntWPBxiei1pdGSr7kPoDUATSkukD5xV-g7qDs=s64",
      "userId": "00255106542832566666"
     },
     "user_tz": -480
    },
    "id": "niT4AAUn8jnD"
   },
   "outputs": [],
   "source": [
    "def iterate(Z):\n",
    "    # Count neighbours\n",
    "    N = (Z[0:-2,0:-2] + Z[0:-2,1:-1] + Z[0:-2,2:] +\n",
    "         Z[1:-1,0:-2]                + Z[1:-1,2:] +\n",
    "         Z[2:  ,0:-2] + Z[2:  ,1:-1] + Z[2:  ,2:])\n",
    "\n",
    "    # Apply rules\n",
    "    birth = (N==3) & (Z[1:-1,1:-1]==0)\n",
    "    survive = ((N==2) | (N==3)) & (Z[1:-1,1:-1]==1)\n",
    "    Z[...] = 0\n",
    "    Z[1:-1,1:-1][birth | survive] = 1\n",
    "    return Z\n",
    "\n",
    "Z = np.random.randint(0,2,(50,50))\n",
    "for i in range(100): Z = iterate(Z)"
   ]
  },
  {
   "cell_type": "markdown",
   "metadata": {
    "id": "KRah7w9J8jnD"
   },
   "source": [
    "#### 89. How to get the n largest values of an array (★★★) \n",
    "(**hint**: np.argsort | np.argpartition)"
   ]
  },
  {
   "cell_type": "code",
   "execution_count": 56,
   "metadata": {
    "colab": {
     "base_uri": "https://localhost:8080/"
    },
    "executionInfo": {
     "elapsed": 334,
     "status": "ok",
     "timestamp": 1646892616135,
     "user": {
      "displayName": "divya",
      "photoUrl": "https://lh3.googleusercontent.com/a-/AOh14GgWNNntWPBxiei1pdGSr7kPoDUATSkukD5xV-g7qDs=s64",
      "userId": "00255106542832566666"
     },
     "user_tz": -480
    },
    "id": "-HdjD_6g8jnE",
    "outputId": "74359640-b612-4a82-c027-74ce74ff6d25"
   },
   "outputs": [
    {
     "name": "stdout",
     "output_type": "stream",
     "text": [
      "[9995 9996 9997 9998 9999]\n",
      "[9998 9999 9997 9996 9995]\n"
     ]
    }
   ],
   "source": [
    "Z = np.arange(10000)\n",
    "np.random.shuffle(Z)\n",
    "n = 5\n",
    "\n",
    "# Slow\n",
    "print (Z[np.argsort(Z)[-n:]])\n",
    "\n",
    "# Fast\n",
    "print (Z[np.argpartition(-Z,n)[:n]])"
   ]
  },
  {
   "cell_type": "markdown",
   "metadata": {
    "id": "ITKl7RDv8jnE"
   },
   "source": [
    "#### 90. Given an arbitrary number of vectors, build the cartesian product (every combinations of every item) (★★★) \n",
    "(**hint**: np.indices)"
   ]
  },
  {
   "cell_type": "code",
   "execution_count": 121,
   "metadata": {
    "colab": {
     "base_uri": "https://localhost:8080/"
    },
    "executionInfo": {
     "elapsed": 342,
     "status": "ok",
     "timestamp": 1646893192397,
     "user": {
      "displayName": "divya",
      "photoUrl": "https://lh3.googleusercontent.com/a-/AOh14GgWNNntWPBxiei1pdGSr7kPoDUATSkukD5xV-g7qDs=s64",
      "userId": "00255106542832566666"
     },
     "user_tz": -480
    },
    "id": "jcYo9nls8jnF",
    "outputId": "60f60677-65dc-4f76-a6fb-7c7ca7ef8ac0",
    "scrolled": true
   },
   "outputs": [
    {
     "name": "stdout",
     "output_type": "stream",
     "text": [
      "[[1 4 6]\n",
      " [1 4 7]\n",
      " [1 5 6]\n",
      " [1 5 7]\n",
      " [2 4 6]\n",
      " [2 4 7]\n",
      " [2 5 6]\n",
      " [2 5 7]\n",
      " [3 4 6]\n",
      " [3 4 7]\n",
      " [3 5 6]\n",
      " [3 5 7]]\n"
     ]
    }
   ],
   "source": [
    "def cartesian(arrays):\n",
    "    arrays = [np.asarray(a) for a in arrays]\n",
    "    shape = (len(x) for x in arrays)\n",
    "\n",
    "    ix = np.indices(shape, dtype=int)\n",
    "    ix = ix.reshape(len(arrays), -1).T\n",
    "\n",
    "    for n, arr in enumerate(arrays):\n",
    "        ix[:, n] = arrays[n][ix[:, n]]\n",
    "\n",
    "    return ix\n",
    "\n",
    "print (cartesian(([1, 2, 3], [4, 5], [6, 7])))"
   ]
  },
  {
   "cell_type": "markdown",
   "metadata": {
    "id": "m2Uvyath8jnF"
   },
   "source": [
    "#### 91. How to create a record array from a regular array? (★★★) \n",
    "(**hint**: np.core.records.fromarrays)"
   ]
  },
  {
   "cell_type": "code",
   "execution_count": 129,
   "metadata": {
    "executionInfo": {
     "elapsed": 347,
     "status": "ok",
     "timestamp": 1646893487533,
     "user": {
      "displayName": "divya",
      "photoUrl": "https://lh3.googleusercontent.com/a-/AOh14GgWNNntWPBxiei1pdGSr7kPoDUATSkukD5xV-g7qDs=s64",
      "userId": "00255106542832566666"
     },
     "user_tz": -480
    },
    "id": "WSeSHRF28jnG"
   },
   "outputs": [],
   "source": [
    "Z = np.array([(\"Hello\", 2.5, 3),\n",
    "              (\"World\", 3.6, 2)])\n",
    "R = np.core.records.fromarrays(Z.T,\n",
    "                               names='col1, col2, col3',\n",
    "                               formats = 'S8, f8, i8')"
   ]
  },
  {
   "cell_type": "markdown",
   "metadata": {
    "id": "7zO4ZSp_8jnG"
   },
   "source": [
    "#### 92. Consider a large vector Z, compute Z to the power of 3 using 3 different methods (★★★) \n",
    "(**hint**: np.power, \\*, np.einsum)"
   ]
  },
  {
   "cell_type": "code",
   "execution_count": 123,
   "metadata": {
    "colab": {
     "base_uri": "https://localhost:8080/"
    },
    "executionInfo": {
     "elapsed": 43529,
     "status": "ok",
     "timestamp": 1646893273100,
     "user": {
      "displayName": "divya",
      "photoUrl": "https://lh3.googleusercontent.com/a-/AOh14GgWNNntWPBxiei1pdGSr7kPoDUATSkukD5xV-g7qDs=s64",
      "userId": "00255106542832566666"
     },
     "user_tz": -480
    },
    "id": "f_DmHdmJ8jnG",
    "outputId": "30724e0b-175a-44fd-880d-0b65e79f0c70"
   },
   "outputs": [
    {
     "name": "stdout",
     "output_type": "stream",
     "text": [
      "1 loop, best of 5: 3.75 s per loop\n",
      "10 loops, best of 5: 161 ms per loop\n",
      "10 loops, best of 5: 126 ms per loop\n"
     ]
    }
   ],
   "source": [
    "x = np.random.rand(int(5e7))\n",
    "\n",
    "%timeit np.power(x,3)\n",
    "%timeit x*x*x\n",
    "%timeit np.einsum('i,i,i->i',x,x,x)"
   ]
  },
  {
   "cell_type": "markdown",
   "metadata": {
    "id": "DOPJxvno8jnH"
   },
   "source": [
    "#### 93. Consider two arrays A and B of shape (8,3) and (2,2). How to find rows of A that contain elements of each row of B regardless of the order of the elements in B? (★★★) \n",
    "(**hint**: np.where)"
   ]
  },
  {
   "cell_type": "code",
   "execution_count": 124,
   "metadata": {
    "colab": {
     "base_uri": "https://localhost:8080/"
    },
    "executionInfo": {
     "elapsed": 495,
     "status": "ok",
     "timestamp": 1646893321162,
     "user": {
      "displayName": "divya",
      "photoUrl": "https://lh3.googleusercontent.com/a-/AOh14GgWNNntWPBxiei1pdGSr7kPoDUATSkukD5xV-g7qDs=s64",
      "userId": "00255106542832566666"
     },
     "user_tz": -480
    },
    "id": "V90XQ6_X8jnH",
    "outputId": "1b7b1a0d-d8aa-45c9-c15e-2bdce2e10c7a"
   },
   "outputs": [
    {
     "name": "stdout",
     "output_type": "stream",
     "text": [
      "[0 1 5 6 7]\n"
     ]
    }
   ],
   "source": [
    "A = np.random.randint(0,5,(8,3))\n",
    "B = np.random.randint(0,5,(2,2))\n",
    "\n",
    "C = (A[..., np.newaxis, np.newaxis] == B)\n",
    "rows = (C.sum(axis=(1,2,3)) >= B.shape[1]).nonzero()[0]\n",
    "print(rows)"
   ]
  },
  {
   "cell_type": "markdown",
   "metadata": {
    "id": "zdhmbDNB8jnH"
   },
   "source": [
    "#### 94. Considering a 10x3 matrix, extract rows with unequal values (e.g. \\[2,2,3\\]) (★★★)"
   ]
  },
  {
   "cell_type": "code",
   "execution_count": 125,
   "metadata": {
    "colab": {
     "base_uri": "https://localhost:8080/"
    },
    "executionInfo": {
     "elapsed": 329,
     "status": "ok",
     "timestamp": 1646893324198,
     "user": {
      "displayName": "divya",
      "photoUrl": "https://lh3.googleusercontent.com/a-/AOh14GgWNNntWPBxiei1pdGSr7kPoDUATSkukD5xV-g7qDs=s64",
      "userId": "00255106542832566666"
     },
     "user_tz": -480
    },
    "id": "twy2Tt288jnI",
    "outputId": "a3a47ffc-a928-4b5c-fbec-d283d508e5ff"
   },
   "outputs": [
    {
     "name": "stdout",
     "output_type": "stream",
     "text": [
      "[[2 1 2]\n",
      " [3 2 2]\n",
      " [1 1 3]\n",
      " [1 1 1]\n",
      " [0 4 1]\n",
      " [2 2 0]\n",
      " [2 0 1]\n",
      " [2 4 3]\n",
      " [2 0 2]\n",
      " [3 1 2]]\n",
      "[[2 1 2]\n",
      " [3 2 2]\n",
      " [1 1 3]\n",
      " [0 4 1]\n",
      " [2 2 0]\n",
      " [2 0 1]\n",
      " [2 4 3]\n",
      " [2 0 2]\n",
      " [3 1 2]]\n"
     ]
    }
   ],
   "source": [
    "Z = np.random.randint(0,5,(10,3))\n",
    "E = np.logical_and.reduce(Z[:,1:] == Z[:,:-1], axis=1)\n",
    "U = Z[~E]\n",
    "print(Z)\n",
    "print(U)"
   ]
  },
  {
   "cell_type": "markdown",
   "metadata": {
    "id": "J16LDyxD8jnI"
   },
   "source": [
    "#### 95. Convert a vector of ints into a matrix binary representation (★★★) \n",
    "(**hint**: np.unpackbits)"
   ]
  },
  {
   "cell_type": "code",
   "execution_count": 126,
   "metadata": {
    "colab": {
     "base_uri": "https://localhost:8080/"
    },
    "executionInfo": {
     "elapsed": 342,
     "status": "ok",
     "timestamp": 1646893351383,
     "user": {
      "displayName": "divya",
      "photoUrl": "https://lh3.googleusercontent.com/a-/AOh14GgWNNntWPBxiei1pdGSr7kPoDUATSkukD5xV-g7qDs=s64",
      "userId": "00255106542832566666"
     },
     "user_tz": -480
    },
    "id": "8LZsA75p8jnI",
    "outputId": "dfbcdeab-cd92-4624-9ace-52f77e0bb592"
   },
   "outputs": [
    {
     "name": "stdout",
     "output_type": "stream",
     "text": [
      "[[0 0 0 0 0 0 0 0]\n",
      " [0 0 0 0 0 0 0 1]\n",
      " [0 0 0 0 0 0 1 0]\n",
      " [0 0 0 0 0 0 1 1]\n",
      " [0 0 0 0 1 1 1 1]\n",
      " [0 0 0 1 0 0 0 0]\n",
      " [0 0 1 0 0 0 0 0]\n",
      " [0 1 0 0 0 0 0 0]\n",
      " [1 0 0 0 0 0 0 0]]\n"
     ]
    }
   ],
   "source": [
    "I = np.array([0, 1, 2, 3, 15, 16, 32, 64, 128])\n",
    "B = ((I.reshape(-1,1) & (2**np.arange(8))) != 0).astype(int)\n",
    "print(B[:,::-1])"
   ]
  },
  {
   "cell_type": "markdown",
   "metadata": {
    "id": "GK-sFMAt8jnJ"
   },
   "source": [
    "#### 96. Given a two dimensional array, how to extract unique rows? (★★★) \n",
    "(**hint**: np.ascontiguousarray)"
   ]
  },
  {
   "cell_type": "code",
   "execution_count": 127,
   "metadata": {
    "colab": {
     "base_uri": "https://localhost:8080/"
    },
    "executionInfo": {
     "elapsed": 323,
     "status": "ok",
     "timestamp": 1646893356324,
     "user": {
      "displayName": "divya",
      "photoUrl": "https://lh3.googleusercontent.com/a-/AOh14GgWNNntWPBxiei1pdGSr7kPoDUATSkukD5xV-g7qDs=s64",
      "userId": "00255106542832566666"
     },
     "user_tz": -480
    },
    "id": "UiXpXEnE8jnJ",
    "outputId": "42e374bd-de2a-40bf-a5cb-2899daeeb10e"
   },
   "outputs": [
    {
     "name": "stdout",
     "output_type": "stream",
     "text": [
      "[[0 0 0]\n",
      " [0 0 1]\n",
      " [1 0 0]\n",
      " [1 0 1]\n",
      " [1 1 1]]\n"
     ]
    }
   ],
   "source": [
    "Z = np.random.randint(0,2,(6,3))\n",
    "T = np.ascontiguousarray(Z).view(np.dtype((np.void, Z.dtype.itemsize * Z.shape[1])))\n",
    "_, idx = np.unique(T, return_index=True)\n",
    "uZ = Z[idx]\n",
    "print(uZ)"
   ]
  },
  {
   "cell_type": "markdown",
   "metadata": {
    "id": "PSxa_bEZ8jnK"
   },
   "source": [
    "#### 97. Considering 2 vectors A & B, write the einsum equivalent of inner, outer, sum, and mul function (★★★) \n",
    "(**hint**: np.einsum)"
   ]
  },
  {
   "cell_type": "code",
   "execution_count": 130,
   "metadata": {
    "colab": {
     "base_uri": "https://localhost:8080/"
    },
    "executionInfo": {
     "elapsed": 344,
     "status": "ok",
     "timestamp": 1646893554342,
     "user": {
      "displayName": "divya",
      "photoUrl": "https://lh3.googleusercontent.com/a-/AOh14GgWNNntWPBxiei1pdGSr7kPoDUATSkukD5xV-g7qDs=s64",
      "userId": "00255106542832566666"
     },
     "user_tz": -480
    },
    "id": "0eeYE94V8jnK",
    "outputId": "ede15adf-bac0-45b4-af12-f03f536a6845"
   },
   "outputs": [
    {
     "name": "stdout",
     "output_type": "stream",
     "text": [
      "[0 1 2]\n"
     ]
    }
   ],
   "source": [
    "A= np.arange(3)\n",
    "B =  np.arange(12).reshape(3,4)\n",
    "print (A)"
   ]
  },
  {
   "cell_type": "markdown",
   "metadata": {
    "id": "099eJ8w78jnK"
   },
   "source": [
    "#### 98. Considering a path described by two vectors (X,Y), how to sample it using equidistant samples (★★★)? \n",
    "(**hint**: np.cumsum, np.interp)"
   ]
  },
  {
   "cell_type": "code",
   "execution_count": 131,
   "metadata": {
    "collapsed": true,
    "executionInfo": {
     "elapsed": 321,
     "status": "ok",
     "timestamp": 1646893558852,
     "user": {
      "displayName": "divya",
      "photoUrl": "https://lh3.googleusercontent.com/a-/AOh14GgWNNntWPBxiei1pdGSr7kPoDUATSkukD5xV-g7qDs=s64",
      "userId": "00255106542832566666"
     },
     "user_tz": -480
    },
    "id": "AeZymZab8jnK"
   },
   "outputs": [],
   "source": [
    "phi = np.arange(0, 10*np.pi, 0.1)\n",
    "a = 1\n",
    "x = a*phi*np.cos(phi)\n",
    "y = a*phi*np.sin(phi)\n",
    "\n",
    "dr = (np.diff(x)**2 + np.diff(y)**2)**.5 # segment lengths\n",
    "r = np.zeros_like(x)\n",
    "r[1:] = np.cumsum(dr)                # integrate path\n",
    "r_int = np.linspace(0, r.max(), 200) # regular spaced path\n",
    "x_int = np.interp(r_int, r, x)       # integrate path\n",
    "y_int = np.interp(r_int, r, y)"
   ]
  },
  {
   "cell_type": "markdown",
   "metadata": {
    "id": "iMFPqKH38jnL"
   },
   "source": [
    "#### 99. Given an integer n and a 2D array X, select from X the rows which can be interpreted as draws from a multinomial distribution with n degrees, i.e., the rows which only contain integers and which sum to n. (★★★) \n",
    "(**hint**: np.logical\\_and.reduce, np.mod)"
   ]
  },
  {
   "cell_type": "code",
   "execution_count": 132,
   "metadata": {
    "colab": {
     "base_uri": "https://localhost:8080/"
    },
    "executionInfo": {
     "elapsed": 357,
     "status": "ok",
     "timestamp": 1646893567653,
     "user": {
      "displayName": "divya",
      "photoUrl": "https://lh3.googleusercontent.com/a-/AOh14GgWNNntWPBxiei1pdGSr7kPoDUATSkukD5xV-g7qDs=s64",
      "userId": "00255106542832566666"
     },
     "user_tz": -480
    },
    "id": "E-kcVarR8jnL",
    "outputId": "c9390d8e-0856-406a-a6e6-10f644918530"
   },
   "outputs": [
    {
     "name": "stdout",
     "output_type": "stream",
     "text": [
      "[[2. 0. 1. 1.]]\n"
     ]
    }
   ],
   "source": [
    "X = np.asarray([[1.0, 0.0, 3.0, 8.0],\n",
    "                [2.0, 0.0, 1.0, 1.0],\n",
    "                [1.5, 2.5, 1.0, 0.0]])\n",
    "n = 4\n",
    "M = np.logical_and.reduce(np.mod(X, 1) == 0, axis=-1)\n",
    "M &= (X.sum(axis=-1) == n)\n",
    "print(X[M])"
   ]
  },
  {
   "cell_type": "markdown",
   "metadata": {
    "id": "PMbfs7Gn8jnL"
   },
   "source": [
    "#### 100. Compute bootstrapped 95% confidence intervals for the mean of a 1D array X (i.e., resample the elements of an array with replacement N times, compute the mean of each sample, and then compute percentiles over the means). (★★★) \n",
    "(**hint**: np.percentile)"
   ]
  },
  {
   "cell_type": "code",
   "execution_count": 133,
   "metadata": {
    "colab": {
     "base_uri": "https://localhost:8080/"
    },
    "executionInfo": {
     "elapsed": 324,
     "status": "ok",
     "timestamp": 1646893573818,
     "user": {
      "displayName": "divya",
      "photoUrl": "https://lh3.googleusercontent.com/a-/AOh14GgWNNntWPBxiei1pdGSr7kPoDUATSkukD5xV-g7qDs=s64",
      "userId": "00255106542832566666"
     },
     "user_tz": -480
    },
    "id": "KwJyYh6j8jnL",
    "outputId": "da4ca6f5-19c0-4b2c-d79a-838134d033ea"
   },
   "outputs": [
    {
     "name": "stdout",
     "output_type": "stream",
     "text": [
      "[-0.28618432  0.14234612]\n"
     ]
    }
   ],
   "source": [
    "X = np.random.randn(100) # random 1D array\n",
    "N = 1000 # number of bootstrap samples\n",
    "idx = np.random.randint(0, X.size, (N, X.size))\n",
    "means = X[idx].mean(axis=1)\n",
    "confint = np.percentile(means, [2.5, 97.5])\n",
    "print(confint)"
   ]
  }
 ],
 "metadata": {
  "colab": {
   "collapsed_sections": [],
   "name": "Assignment2_ numpy.ipynb",
   "provenance": [
    {
     "file_id": "https://github.com/Madhubala03/Assignment/blob/main/Numpy_Assignment.ipynb",
     "timestamp": 1646309916772
    }
   ]
  },
  "kernelspec": {
   "display_name": "Python 3 (ipykernel)",
   "language": "python",
   "name": "python3"
  },
  "language_info": {
   "codemirror_mode": {
    "name": "ipython",
    "version": 3
   },
   "file_extension": ".py",
   "mimetype": "text/x-python",
   "name": "python",
   "nbconvert_exporter": "python",
   "pygments_lexer": "ipython3",
   "version": "3.9.7"
  }
 },
 "nbformat": 4,
 "nbformat_minor": 1
}
